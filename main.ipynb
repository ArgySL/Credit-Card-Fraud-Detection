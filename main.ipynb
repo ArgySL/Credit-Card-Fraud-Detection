{
 "cells": [
  {
   "cell_type": "markdown",
   "metadata": {},
   "source": [
    "<h1 style=\"text-align: center;\">Credit Card Fraud Detection using Various Machine Learning Techniques</h1>\n",
    "\n",
    "---\n",
    "\n",
    "### Introduction\n",
    "In this analysis, I utilize undersampling techniques to address the imbalanced dataset. Moreover, I construct various predictive models to assess their efficacy in distinguishing between regular payment transactions and fraudulent ones. Let's delve in and commence our investigation!\n",
    "\n",
    "### Objective\n",
    "<ul>\n",
    "<li>Cleaning and preprocessing the dataset.\n",
    "<li>Exploring techniques to handle an imbalanced dataset.\n",
    "<li>Identifying the optimal classification model.\n",
    "<li>Applying the Expected Value framework.\n",
    "</ul>\n",
    "\n",
    "### Outline\n",
    "1. [Data Review](#datareview)\n",
    "\n",
    "2. [Exploratory Analysis](#exploratory)\n",
    "\n",
    "3. [Data Preprocessing](#datapreprocessing)\n",
    "---"
   ]
  },
  {
   "cell_type": "markdown",
   "metadata": {},
   "source": [
    "<div id='datareview'/>\n",
    "\n",
    "## 1. Data review\n",
    "\n",
    "### About the dataset ([Data Source](https://www.kaggle.com/datasets/mlg-ulb/creditcardfraud))\n",
    "\n",
    "The dataset contains transaction records spanning two days, comprising 492 instances of fraud out of a total of 284,807 transactions. This dataset demonstrates a considerable class imbalance, as the positive class (frauds) accounts for just approximately 0.172% of all transactions.\n",
    "\n",
    "**Target variable:**\n",
    "- *'Class':* This is a binary variable where 0 represents \"Not fraud\" and 1 represents \"Fraud\". \n",
    "\n",
    "**Feature variables:** \n",
    "- *'Time':* The seconds elapsed between each transaction and the first transaction in the dataset.\n",
    "- *'Amount':* The transaction amount.\n",
    "- *'V1', 'V2', ..., 'V28':* The principal components have been derived from the PCA transformation. Unfortunately, due to confidentiality reasons, the original features and any supplementary background information about the data cannot be disclosed.\n",
    "\n",
    "**Now, it's time to analyze the dataset thoroughly to gain valuable insights, comprehend the data, and identify any potential issues or trends that may exist.**"
   ]
  },
  {
   "cell_type": "code",
   "execution_count": 2,
   "metadata": {},
   "outputs": [],
   "source": [
    "## Importing all the necessary libraries for data loading, cleaning, exploring, machine learning, etc.\n",
    "import numpy as np \n",
    "import pandas as pd\n",
    "import matplotlib.pyplot as plt\n",
    "import seaborn as sns\n",
    "from sklearn.preprocessing import RobustScaler\n",
    "from sklearn.preprocessing import StandardScaler\n",
    "from sklearn.preprocessing import MinMaxScaler\n",
    "from sklearn.model_selection import train_test_split\n",
    "from sklearn.linear_model import LogisticRegression\n",
    "from sklearn.ensemble import RandomForestClassifier\n",
    "from sklearn.ensemble import GradientBoostingClassifier\n",
    "%matplotlib inline\n",
    "from keras.layers import InputLayer, Dense, BatchNormalization, Dropout, LSTM\n",
    "from keras.models import Sequential\n",
    "from keras.callbacks import ModelCheckpoint\n",
    "from keras import callbacks\n",
    "from sklearn.metrics import precision_score, recall_score, confusion_matrix, classification_report, accuracy_score, f1_score\n",
    "\n",
    "import warnings\n",
    "warnings.filterwarnings('ignore')\n",
    "\n",
    "from collections import Counter"
   ]
  },
  {
   "cell_type": "code",
   "execution_count": 3,
   "metadata": {},
   "outputs": [],
   "source": [
    "## Loading the dataset with pyarrow as the back engine to reduce load times\n",
    "pd.options.mode.copy_on_write = True\n",
    "data = pd.read_csv(r'creditcard.csv', engine='pyarrow')"
   ]
  },
  {
   "cell_type": "markdown",
   "metadata": {},
   "source": [
    "\n",
    "<div id='exploratory'/>\n",
    "\n",
    "## Exploratory Analysis"
   ]
  },
  {
   "cell_type": "code",
   "execution_count": 4,
   "metadata": {},
   "outputs": [
    {
     "name": "stdout",
     "output_type": "stream",
     "text": [
      "<class 'pandas.core.frame.DataFrame'>\n",
      "RangeIndex: 284807 entries, 0 to 284806\n",
      "Data columns (total 31 columns):\n",
      " #   Column  Non-Null Count   Dtype  \n",
      "---  ------  --------------   -----  \n",
      " 0   Time    284807 non-null  float64\n",
      " 1   V1      284807 non-null  float64\n",
      " 2   V2      284807 non-null  float64\n",
      " 3   V3      284807 non-null  float64\n",
      " 4   V4      284807 non-null  float64\n",
      " 5   V5      284807 non-null  float64\n",
      " 6   V6      284807 non-null  float64\n",
      " 7   V7      284807 non-null  float64\n",
      " 8   V8      284807 non-null  float64\n",
      " 9   V9      284807 non-null  float64\n",
      " 10  V10     284807 non-null  float64\n",
      " 11  V11     284807 non-null  float64\n",
      " 12  V12     284807 non-null  float64\n",
      " 13  V13     284807 non-null  float64\n",
      " 14  V14     284807 non-null  float64\n",
      " 15  V15     284807 non-null  float64\n",
      " 16  V16     284807 non-null  float64\n",
      " 17  V17     284807 non-null  float64\n",
      " 18  V18     284807 non-null  float64\n",
      " 19  V19     284807 non-null  float64\n",
      " 20  V20     284807 non-null  float64\n",
      " 21  V21     284807 non-null  float64\n",
      " 22  V22     284807 non-null  float64\n",
      " 23  V23     284807 non-null  float64\n",
      " 24  V24     284807 non-null  float64\n",
      " 25  V25     284807 non-null  float64\n",
      " 26  V26     284807 non-null  float64\n",
      " 27  V27     284807 non-null  float64\n",
      " 28  V28     284807 non-null  float64\n",
      " 29  Amount  284807 non-null  float64\n",
      " 30  Class   284807 non-null  int64  \n",
      "dtypes: float64(30), int64(1)\n",
      "memory usage: 67.4 MB\n"
     ]
    }
   ],
   "source": [
    "## Exploring the features of our data\n",
    "data.info()"
   ]
  },
  {
   "cell_type": "code",
   "execution_count": 5,
   "metadata": {},
   "outputs": [
    {
     "data": {
      "text/plain": [
       "(284807, 31)"
      ]
     },
     "execution_count": 5,
     "metadata": {},
     "output_type": "execute_result"
    }
   ],
   "source": [
    "data.shape"
   ]
  },
  {
   "cell_type": "code",
   "execution_count": null,
   "metadata": {},
   "outputs": [],
   "source": [
    "#%timeit pd.read_csv('creditcard.csv')\n"
   ]
  },
  {
   "cell_type": "code",
   "execution_count": null,
   "metadata": {},
   "outputs": [],
   "source": [
    "#%timeit pd.read_csv('creditcard.csv', dtype_backend='pyarrow' engine='pyarrow')"
   ]
  },
  {
   "cell_type": "code",
   "execution_count": null,
   "metadata": {},
   "outputs": [],
   "source": [
    "data.describe()"
   ]
  },
  {
   "cell_type": "code",
   "execution_count": null,
   "metadata": {},
   "outputs": [],
   "source": [
    "new_data = data.copy()"
   ]
  },
  {
   "cell_type": "code",
   "execution_count": null,
   "metadata": {},
   "outputs": [],
   "source": [
    "## Getting the column names\n",
    "columns = new_data.columns\n",
    "\n",
    "## Iteratating through the columns with index 'i' and column name 'col'\n",
    "for i, col in enumerate(columns):\n",
    "    ## Plotting the distplot only for the first and last two columns\n",
    "    if i == 0 or i >= len(columns) - 2:\n",
    "        plt.figure(i)\n",
    "        sns.distplot(new_data[col])\n",
    "        plt.title(f'Distribution of {col}')\n",
    "        plt.xlabel(col)\n",
    "        plt.ylabel('Frequency')\n",
    "        plt.show()\n"
   ]
  },
  {
   "cell_type": "code",
   "execution_count": null,
   "metadata": {},
   "outputs": [],
   "source": [
    "## Creating a correlation heatmap to find out which features are important for our purpose\n",
    "corr_matrix = data.corr()\n",
    "plt.subplots(figsize=(30,30))\n",
    "sns.heatmap(corr_matrix,cmap='YlGnBu', linecolor=\"black\" ,annot=True, square=True)\n",
    "plt.tight_layout()  ## Adjusting the layout to prevent label cutoffs\n",
    "plt.show()"
   ]
  },
  {
   "cell_type": "markdown",
   "metadata": {},
   "source": [
    "By analyzing the correlation matrix, we can obtain valuable information about the connections between the feature variables and the target variables in the dataset. The correlation plot offers a comprehensive visualization of the pairwise correlations, enabling us to detect patterns and dependencies among the variables. Notably, the following feature variables display significant correlations with the target variable:\n",
    "\n",
    "Positive correlation: 'V2', 'V4', and 'V11'.</br>\n",
    "Negative correlation: 'V3', 'V7', 'V10', 'V12', 'V14', 'V16', and 'V17'.</br>\n",
    "On the other hand, the remaining variables exhibit either weak correlations or no correlation at all with the target variable."
   ]
  },
  {
   "cell_type": "code",
   "execution_count": 8,
   "metadata": {},
   "outputs": [
    {
     "data": {
      "image/png": "[encoded data removed]",
      "text/plain": [
       "<Figure size 1200x800 with 1 Axes>"
      ]
     },
     "metadata": {},
     "output_type": "display_data"
    }
   ],
   "source": [
    "\n",
    "## Create the bar chart with additional details\n",
    "plt.figure(figsize=(12, 8))  # Set the size of the figure (width=8 inches, height=6 inches)\n",
    "ax = sns.countplot(x='Class', data=data, palette='viridis', edgecolor='black')\n",
    "\n",
    "# Customize the plot with labels and title\n",
    "plt.title('Credit Card Transactions - \"0\" Stands for \"Not Fraud\", \"1\" Stands for \"Fraud\"')\n",
    "plt.xlabel('Class Label')\n",
    "plt.ylabel('Transactions')\n",
    "\n",
    "# Add annotations above the bars showing the exact counts\n",
    "for p in ax.patches:\n",
    "    ax.annotate(int(p.get_height()), (p.get_x() + p.get_width() / 2, p.get_height()), ha='center', va='bottom')\n",
    "\n",
    "plt.tight_layout()  # Adjust the layout to prevent label cutoffs\n",
    "\n",
    "plt.show()\n"
   ]
  },
  {
   "cell_type": "code",
   "execution_count": null,
   "metadata": {},
   "outputs": [],
   "source": [
    "new_data"
   ]
  },
  {
   "cell_type": "code",
   "execution_count": 9,
   "metadata": {},
   "outputs": [],
   "source": [
    "## Making a copy of the data and applying robust data scaling on the Amount column\n",
    "## Normalising the Time column\n",
    "r_scaler = RobustScaler\n",
    "new_data['Amount'] = r_scaler().fit_transform(new_data['Amount'].to_numpy().reshape(-1, 1))\n",
    "time = new_data['Time']\n",
    "new_data['Time'] = (time - time.min()) / (time.max() - time.min())"
   ]
  },
  {
   "cell_type": "code",
   "execution_count": null,
   "metadata": {},
   "outputs": [],
   "source": []
  },
  {
   "cell_type": "code",
   "execution_count": 21,
   "metadata": {},
   "outputs": [
    {
     "data": {
      "text/html": [
       "<div>\n",
       "<style scoped>\n",
       "    .dataframe tbody tr th:only-of-type {\n",
       "        vertical-align: middle;\n",
       "    }\n",
       "\n",
       "    .dataframe tbody tr th {\n",
       "        vertical-align: top;\n",
       "    }\n",
       "\n",
       "    .dataframe thead th {\n",
       "        text-align: right;\n",
       "    }\n",
       "</style>\n",
       "<table border=\"1\" class=\"dataframe\">\n",
       "  <thead>\n",
       "    <tr style=\"text-align: right;\">\n",
       "      <th></th>\n",
       "      <th>Time</th>\n",
       "      <th>V1</th>\n",
       "      <th>V2</th>\n",
       "      <th>V3</th>\n",
       "      <th>V4</th>\n",
       "      <th>V5</th>\n",
       "      <th>V6</th>\n",
       "      <th>V7</th>\n",
       "      <th>V8</th>\n",
       "      <th>V9</th>\n",
       "      <th>...</th>\n",
       "      <th>V21</th>\n",
       "      <th>V22</th>\n",
       "      <th>V23</th>\n",
       "      <th>V24</th>\n",
       "      <th>V25</th>\n",
       "      <th>V26</th>\n",
       "      <th>V27</th>\n",
       "      <th>V28</th>\n",
       "      <th>Amount</th>\n",
       "      <th>Class</th>\n",
       "    </tr>\n",
       "  </thead>\n",
       "  <tbody>\n",
       "    <tr>\n",
       "      <th>12849</th>\n",
       "      <td>0.130596</td>\n",
       "      <td>-0.730591</td>\n",
       "      <td>0.464210</td>\n",
       "      <td>2.206461</td>\n",
       "      <td>-2.013016</td>\n",
       "      <td>0.241234</td>\n",
       "      <td>0.402515</td>\n",
       "      <td>0.331219</td>\n",
       "      <td>-0.080937</td>\n",
       "      <td>2.700053</td>\n",
       "      <td>...</td>\n",
       "      <td>-0.184885</td>\n",
       "      <td>0.021091</td>\n",
       "      <td>-0.478446</td>\n",
       "      <td>-0.981558</td>\n",
       "      <td>0.509467</td>\n",
       "      <td>-0.762774</td>\n",
       "      <td>-0.198450</td>\n",
       "      <td>-0.170132</td>\n",
       "      <td>-0.141829</td>\n",
       "      <td>0</td>\n",
       "    </tr>\n",
       "    <tr>\n",
       "      <th>36715</th>\n",
       "      <td>0.223720</td>\n",
       "      <td>0.938707</td>\n",
       "      <td>-0.073768</td>\n",
       "      <td>1.262434</td>\n",
       "      <td>2.711881</td>\n",
       "      <td>-0.694834</td>\n",
       "      <td>0.406251</td>\n",
       "      <td>-0.391960</td>\n",
       "      <td>0.136842</td>\n",
       "      <td>0.061780</td>\n",
       "      <td>...</td>\n",
       "      <td>-0.038799</td>\n",
       "      <td>-0.186149</td>\n",
       "      <td>-0.100430</td>\n",
       "      <td>0.043335</td>\n",
       "      <td>0.318809</td>\n",
       "      <td>-0.034418</td>\n",
       "      <td>0.024230</td>\n",
       "      <td>0.052159</td>\n",
       "      <td>1.234263</td>\n",
       "      <td>0</td>\n",
       "    </tr>\n",
       "    <tr>\n",
       "      <th>195550</th>\n",
       "      <td>0.758797</td>\n",
       "      <td>1.522794</td>\n",
       "      <td>-2.131882</td>\n",
       "      <td>-0.339569</td>\n",
       "      <td>-0.734238</td>\n",
       "      <td>-1.652509</td>\n",
       "      <td>0.234064</td>\n",
       "      <td>-1.198732</td>\n",
       "      <td>0.185820</td>\n",
       "      <td>0.199164</td>\n",
       "      <td>...</td>\n",
       "      <td>0.482303</td>\n",
       "      <td>0.693220</td>\n",
       "      <td>0.036520</td>\n",
       "      <td>0.778046</td>\n",
       "      <td>-0.589319</td>\n",
       "      <td>-0.317277</td>\n",
       "      <td>-0.027026</td>\n",
       "      <td>0.013465</td>\n",
       "      <td>3.970377</td>\n",
       "      <td>0</td>\n",
       "    </tr>\n",
       "    <tr>\n",
       "      <th>236318</th>\n",
       "      <td>0.860931</td>\n",
       "      <td>-0.117193</td>\n",
       "      <td>1.088893</td>\n",
       "      <td>-0.654295</td>\n",
       "      <td>-0.755615</td>\n",
       "      <td>0.960106</td>\n",
       "      <td>-0.175211</td>\n",
       "      <td>0.512495</td>\n",
       "      <td>-0.652595</td>\n",
       "      <td>-0.023424</td>\n",
       "      <td>...</td>\n",
       "      <td>0.434212</td>\n",
       "      <td>-1.151942</td>\n",
       "      <td>0.165830</td>\n",
       "      <td>0.127705</td>\n",
       "      <td>-0.428287</td>\n",
       "      <td>0.127272</td>\n",
       "      <td>0.246746</td>\n",
       "      <td>0.074703</td>\n",
       "      <td>-0.244673</td>\n",
       "      <td>0</td>\n",
       "    </tr>\n",
       "    <tr>\n",
       "      <th>52282</th>\n",
       "      <td>0.262564</td>\n",
       "      <td>1.429116</td>\n",
       "      <td>-0.445955</td>\n",
       "      <td>0.373138</td>\n",
       "      <td>-0.774694</td>\n",
       "      <td>-0.863402</td>\n",
       "      <td>-0.748527</td>\n",
       "      <td>-0.533059</td>\n",
       "      <td>-0.180418</td>\n",
       "      <td>-0.775044</td>\n",
       "      <td>...</td>\n",
       "      <td>-0.122623</td>\n",
       "      <td>-0.466197</td>\n",
       "      <td>0.063391</td>\n",
       "      <td>-0.132139</td>\n",
       "      <td>0.306399</td>\n",
       "      <td>-0.450312</td>\n",
       "      <td>0.010871</td>\n",
       "      <td>0.019274</td>\n",
       "      <td>-0.097813</td>\n",
       "      <td>0</td>\n",
       "    </tr>\n",
       "    <tr>\n",
       "      <th>...</th>\n",
       "      <td>...</td>\n",
       "      <td>...</td>\n",
       "      <td>...</td>\n",
       "      <td>...</td>\n",
       "      <td>...</td>\n",
       "      <td>...</td>\n",
       "      <td>...</td>\n",
       "      <td>...</td>\n",
       "      <td>...</td>\n",
       "      <td>...</td>\n",
       "      <td>...</td>\n",
       "      <td>...</td>\n",
       "      <td>...</td>\n",
       "      <td>...</td>\n",
       "      <td>...</td>\n",
       "      <td>...</td>\n",
       "      <td>...</td>\n",
       "      <td>...</td>\n",
       "      <td>...</td>\n",
       "      <td>...</td>\n",
       "      <td>...</td>\n",
       "    </tr>\n",
       "    <tr>\n",
       "      <th>35199</th>\n",
       "      <td>0.219975</td>\n",
       "      <td>1.191758</td>\n",
       "      <td>-0.226330</td>\n",
       "      <td>0.923560</td>\n",
       "      <td>0.555863</td>\n",
       "      <td>-0.619562</td>\n",
       "      <td>0.492735</td>\n",
       "      <td>-0.727587</td>\n",
       "      <td>0.259650</td>\n",
       "      <td>0.697648</td>\n",
       "      <td>...</td>\n",
       "      <td>-0.090483</td>\n",
       "      <td>-0.094085</td>\n",
       "      <td>-0.088297</td>\n",
       "      <td>-0.455590</td>\n",
       "      <td>0.340096</td>\n",
       "      <td>0.349889</td>\n",
       "      <td>0.012884</td>\n",
       "      <td>0.009519</td>\n",
       "      <td>-0.146720</td>\n",
       "      <td>0</td>\n",
       "    </tr>\n",
       "    <tr>\n",
       "      <th>76419</th>\n",
       "      <td>0.327324</td>\n",
       "      <td>1.272872</td>\n",
       "      <td>-0.470163</td>\n",
       "      <td>0.373218</td>\n",
       "      <td>0.223557</td>\n",
       "      <td>-0.334031</td>\n",
       "      <td>0.770407</td>\n",
       "      <td>-0.706654</td>\n",
       "      <td>0.133356</td>\n",
       "      <td>-0.752198</td>\n",
       "      <td>...</td>\n",
       "      <td>-0.454407</td>\n",
       "      <td>-0.851788</td>\n",
       "      <td>-0.048259</td>\n",
       "      <td>-1.373591</td>\n",
       "      <td>0.324072</td>\n",
       "      <td>-0.382754</td>\n",
       "      <td>0.084388</td>\n",
       "      <td>0.033632</td>\n",
       "      <td>0.397960</td>\n",
       "      <td>0</td>\n",
       "    </tr>\n",
       "    <tr>\n",
       "      <th>10779</th>\n",
       "      <td>0.106162</td>\n",
       "      <td>-0.480232</td>\n",
       "      <td>1.133591</td>\n",
       "      <td>1.392438</td>\n",
       "      <td>0.772522</td>\n",
       "      <td>0.512337</td>\n",
       "      <td>-0.459334</td>\n",
       "      <td>1.744949</td>\n",
       "      <td>-0.782441</td>\n",
       "      <td>0.804726</td>\n",
       "      <td>...</td>\n",
       "      <td>-0.117844</td>\n",
       "      <td>0.257781</td>\n",
       "      <td>-0.228626</td>\n",
       "      <td>0.331822</td>\n",
       "      <td>0.163459</td>\n",
       "      <td>-0.427539</td>\n",
       "      <td>-0.514905</td>\n",
       "      <td>-0.431945</td>\n",
       "      <td>0.807657</td>\n",
       "      <td>0</td>\n",
       "    </tr>\n",
       "    <tr>\n",
       "      <th>61406</th>\n",
       "      <td>0.288300</td>\n",
       "      <td>1.204255</td>\n",
       "      <td>0.295461</td>\n",
       "      <td>0.676943</td>\n",
       "      <td>1.505048</td>\n",
       "      <td>-0.286381</td>\n",
       "      <td>-0.166194</td>\n",
       "      <td>-0.187384</td>\n",
       "      <td>0.102180</td>\n",
       "      <td>-0.687615</td>\n",
       "      <td>...</td>\n",
       "      <td>-0.313416</td>\n",
       "      <td>-1.060109</td>\n",
       "      <td>0.189381</td>\n",
       "      <td>-0.037659</td>\n",
       "      <td>-0.042811</td>\n",
       "      <td>0.609425</td>\n",
       "      <td>-0.080535</td>\n",
       "      <td>0.001811</td>\n",
       "      <td>-0.297352</td>\n",
       "      <td>0</td>\n",
       "    </tr>\n",
       "    <tr>\n",
       "      <th>133856</th>\n",
       "      <td>0.466185</td>\n",
       "      <td>-2.214893</td>\n",
       "      <td>1.699118</td>\n",
       "      <td>0.320764</td>\n",
       "      <td>0.048604</td>\n",
       "      <td>-0.950134</td>\n",
       "      <td>-0.064253</td>\n",
       "      <td>-0.699091</td>\n",
       "      <td>1.651245</td>\n",
       "      <td>-0.256202</td>\n",
       "      <td>...</td>\n",
       "      <td>-0.046926</td>\n",
       "      <td>-0.245637</td>\n",
       "      <td>0.014580</td>\n",
       "      <td>0.015790</td>\n",
       "      <td>0.003002</td>\n",
       "      <td>0.267522</td>\n",
       "      <td>0.152542</td>\n",
       "      <td>0.075909</td>\n",
       "      <td>-0.252498</td>\n",
       "      <td>0</td>\n",
       "    </tr>\n",
       "  </tbody>\n",
       "</table>\n",
       "<p>284807 rows × 31 columns</p>\n",
       "</div>"
      ],
      "text/plain": [
       "            Time        V1        V2        V3        V4        V5        V6   \n",
       "12849   0.130596 -0.730591  0.464210  2.206461 -2.013016  0.241234  0.402515  \\\n",
       "36715   0.223720  0.938707 -0.073768  1.262434  2.711881 -0.694834  0.406251   \n",
       "195550  0.758797  1.522794 -2.131882 -0.339569 -0.734238 -1.652509  0.234064   \n",
       "236318  0.860931 -0.117193  1.088893 -0.654295 -0.755615  0.960106 -0.175211   \n",
       "52282   0.262564  1.429116 -0.445955  0.373138 -0.774694 -0.863402 -0.748527   \n",
       "...          ...       ...       ...       ...       ...       ...       ...   \n",
       "35199   0.219975  1.191758 -0.226330  0.923560  0.555863 -0.619562  0.492735   \n",
       "76419   0.327324  1.272872 -0.470163  0.373218  0.223557 -0.334031  0.770407   \n",
       "10779   0.106162 -0.480232  1.133591  1.392438  0.772522  0.512337 -0.459334   \n",
       "61406   0.288300  1.204255  0.295461  0.676943  1.505048 -0.286381 -0.166194   \n",
       "133856  0.466185 -2.214893  1.699118  0.320764  0.048604 -0.950134 -0.064253   \n",
       "\n",
       "              V7        V8        V9  ...       V21       V22       V23   \n",
       "12849   0.331219 -0.080937  2.700053  ... -0.184885  0.021091 -0.478446  \\\n",
       "36715  -0.391960  0.136842  0.061780  ... -0.038799 -0.186149 -0.100430   \n",
       "195550 -1.198732  0.185820  0.199164  ...  0.482303  0.693220  0.036520   \n",
       "236318  0.512495 -0.652595 -0.023424  ...  0.434212 -1.151942  0.165830   \n",
       "52282  -0.533059 -0.180418 -0.775044  ... -0.122623 -0.466197  0.063391   \n",
       "...          ...       ...       ...  ...       ...       ...       ...   \n",
       "35199  -0.727587  0.259650  0.697648  ... -0.090483 -0.094085 -0.088297   \n",
       "76419  -0.706654  0.133356 -0.752198  ... -0.454407 -0.851788 -0.048259   \n",
       "10779   1.744949 -0.782441  0.804726  ... -0.117844  0.257781 -0.228626   \n",
       "61406  -0.187384  0.102180 -0.687615  ... -0.313416 -1.060109  0.189381   \n",
       "133856 -0.699091  1.651245 -0.256202  ... -0.046926 -0.245637  0.014580   \n",
       "\n",
       "             V24       V25       V26       V27       V28    Amount  Class  \n",
       "12849  -0.981558  0.509467 -0.762774 -0.198450 -0.170132 -0.141829      0  \n",
       "36715   0.043335  0.318809 -0.034418  0.024230  0.052159  1.234263      0  \n",
       "195550  0.778046 -0.589319 -0.317277 -0.027026  0.013465  3.970377      0  \n",
       "236318  0.127705 -0.428287  0.127272  0.246746  0.074703 -0.244673      0  \n",
       "52282  -0.132139  0.306399 -0.450312  0.010871  0.019274 -0.097813      0  \n",
       "...          ...       ...       ...       ...       ...       ...    ...  \n",
       "35199  -0.455590  0.340096  0.349889  0.012884  0.009519 -0.146720      0  \n",
       "76419  -1.373591  0.324072 -0.382754  0.084388  0.033632  0.397960      0  \n",
       "10779   0.331822  0.163459 -0.427539 -0.514905 -0.431945  0.807657      0  \n",
       "61406  -0.037659 -0.042811  0.609425 -0.080535  0.001811 -0.297352      0  \n",
       "133856  0.015790  0.003002  0.267522  0.152542  0.075909 -0.252498      0  \n",
       "\n",
       "[284807 rows x 31 columns]"
      ]
     },
     "execution_count": 21,
     "metadata": {},
     "output_type": "execute_result"
    }
   ],
   "source": [
    "## Randomising how the data observations appear\n",
    "new_data = new_data.sample(frac=1)\n",
    "new_data"
   ]
  },
  {
   "cell_type": "markdown",
   "metadata": {},
   "source": [
    "<div id='Data Preprocessing'/>\n",
    "\n",
    "## Data Preprocessing"
   ]
  },
  {
   "cell_type": "code",
   "execution_count": 22,
   "metadata": {},
   "outputs": [],
   "source": [
    "## Splitting the data into train, validate, and test sets to be used in our ANN with numpy split (75%, 12%, 13%)\n",
    "train_set, validation_set, test_set = np.split(new_data.sample(frac=1), [int(.75*len(new_data)), int(.87*len(new_data))])"
   ]
  },
  {
   "cell_type": "code",
   "execution_count": 23,
   "metadata": {},
   "outputs": [
    {
     "data": {
      "text/plain": [
       "(Class\n",
       " 0    213246\n",
       " 1       359\n",
       " Name: count, dtype: int64,\n",
       " Class\n",
       " 0    34118\n",
       " 1       59\n",
       " Name: count, dtype: int64,\n",
       " Class\n",
       " 0    36951\n",
       " 1       74\n",
       " Name: count, dtype: int64)"
      ]
     },
     "execution_count": 23,
     "metadata": {},
     "output_type": "execute_result"
    }
   ],
   "source": [
    "## Ensuring the data split was successful by counting the observations on each set\n",
    "train_set['Class'].value_counts(), validation_set['Class'].value_counts() , test_set['Class'].value_counts()"
   ]
  },
  {
   "cell_type": "code",
   "execution_count": 24,
   "metadata": {},
   "outputs": [
    {
     "data": {
      "text/plain": [
       "((213605, 31), (34177, 31), (37025, 31))"
      ]
     },
     "execution_count": 24,
     "metadata": {},
     "output_type": "execute_result"
    }
   ],
   "source": [
    "## Transforming the sets into numpy arrays to be fed into the machine learning modesl/ANNs\n",
    "train_set_np, validation_set_np, test_set_np = train_set.to_numpy(), validation_set.to_numpy(), test_set.to_numpy()\n",
    "train_set_np.shape, validation_set_np.shape, test_set_np.shape"
   ]
  },
  {
   "cell_type": "code",
   "execution_count": 25,
   "metadata": {},
   "outputs": [
    {
     "data": {
      "text/plain": [
       "((213605, 30), (213605,), (37025, 30), (37025,), (34177, 30), (34177,))"
      ]
     },
     "execution_count": 25,
     "metadata": {},
     "output_type": "execute_result"
    }
   ],
   "source": [
    "## Removing the target variable from \n",
    "x_train, y_train = train_set_np[:, :-1], train_set_np[:, -1]\n",
    "x_val, y_val = validation_set_np[:, :-1], validation_set_np[:, -1]\n",
    "x_test, y_test = test_set_np[:, :-1], test_set_np[:, -1]\n",
    "\n",
    "x_train.shape, y_train.shape, x_test.shape, y_test.shape, x_val.shape, y_val.shape"
   ]
  },
  {
   "cell_type": "markdown",
   "metadata": {},
   "source": [
    "## Logistic Regression"
   ]
  },
  {
   "cell_type": "code",
   "execution_count": 26,
   "metadata": {},
   "outputs": [
    {
     "data": {
      "text/plain": [
       "0.9991432784813089"
      ]
     },
     "execution_count": 26,
     "metadata": {},
     "output_type": "execute_result"
    }
   ],
   "source": [
    "## Implementing the logistic regression model, fitting the model and getting its performance\n",
    "logistic_model = LogisticRegression()\n",
    "logistic_model.fit(x_train, y_train)\n",
    "logistic_model.score(x_train, y_train)"
   ]
  },
  {
   "cell_type": "code",
   "execution_count": 27,
   "metadata": {},
   "outputs": [
    {
     "data": {
      "image/png": "[encoded data removed]",
      "text/plain": [
       "<Figure size 640x480 with 1 Axes>"
      ]
     },
     "metadata": {},
     "output_type": "display_data"
    }
   ],
   "source": [
    "##\n",
    "sns.regplot(x=X.index, y=Y, data=balanced_data, logistic=True, ci=None)\n",
    "plt.show()\n"
   ]
  },
  {
   "cell_type": "code",
   "execution_count": 28,
   "metadata": {},
   "outputs": [
    {
     "name": "stdout",
     "output_type": "stream",
     "text": [
      "              precision    recall  f1-score   support\n",
      "\n",
      "   Not Fraud       1.00      1.00      1.00     34118\n",
      "       Fraud       0.91      0.69      0.79        59\n",
      "\n",
      "    accuracy                           1.00     34177\n",
      "   macro avg       0.96      0.85      0.89     34177\n",
      "weighted avg       1.00      1.00      1.00     34177\n",
      "\n"
     ]
    }
   ],
   "source": [
    "## Printing the classification report results\n",
    "print(classification_report(y_val, logistic_model.predict(x_val), target_names=['Not Fraud', 'Fraud']))"
   ]
  },
  {
   "cell_type": "code",
   "execution_count": 36,
   "metadata": {},
   "outputs": [],
   "source": [
    "## Deploying an Early Stopping technique to stop the ANN from training further once its maxed\n",
    "\n",
    "early_stopping = callbacks.EarlyStopping(\n",
    "    min_delta=0.001, ## minimium amount of change to count as an improvement\n",
    "    patience=20, ## how many epochs to wait before stopping\n",
    "    restore_best_weights=True)\n"
   ]
  },
  {
   "cell_type": "code",
   "execution_count": 37,
   "metadata": {},
   "outputs": [],
   "source": [
    "## Deploying the ANN model\n",
    "model = Sequential()\n",
    "model.add(InputLayer((x_train.shape[1],)))\n",
    "model.add(Dense(2, 'relu'))\n",
    "model.add(BatchNormalization())\n",
    "model.add(Dropout(0.5))\n",
    "model.add(Dense(1, 'sigmoid'))\n",
    "\n",
    "checkpoint = ModelCheckpoint('model', save_best_only=True)\n",
    "## Bringing the ANN model together\n",
    "model.compile(optimizer='adam', loss='binary_crossentropy', metrics=['accuracy'])"
   ]
  },
  {
   "cell_type": "code",
   "execution_count": 38,
   "metadata": {},
   "outputs": [
    {
     "name": "stdout",
     "output_type": "stream",
     "text": [
      "Model: \"sequential_1\"\n",
      "_________________________________________________________________\n",
      " Layer (type)                Output Shape              Param #   \n",
      "=================================================================\n",
      " dense_2 (Dense)             (None, 2)                 62        \n",
      "                                                                 \n",
      " batch_normalization_1 (Batc  (None, 2)                8         \n",
      " hNormalization)                                                 \n",
      "                                                                 \n",
      " dropout (Dropout)           (None, 2)                 0         \n",
      "                                                                 \n",
      " dense_3 (Dense)             (None, 1)                 3         \n",
      "                                                                 \n",
      "=================================================================\n",
      "Total params: 73\n",
      "Trainable params: 69\n",
      "Non-trainable params: 4\n",
      "_________________________________________________________________\n"
     ]
    }
   ],
   "source": [
    "##Printing the ANN structure\n",
    "model.summary()"
   ]
  },
  {
   "cell_type": "code",
   "execution_count": 39,
   "metadata": {},
   "outputs": [
    {
     "name": "stdout",
     "output_type": "stream",
     "text": [
      "Epoch 1/12\n",
      "6673/6676 [============================>.] - ETA: 0s - loss: 0.1090 - accuracy: 0.9870"
     ]
    },
    {
     "name": "stderr",
     "output_type": "stream",
     "text": [
      "WARNING:absl:Found untraced functions such as _update_step_xla while saving (showing 1 of 1). These functions will not be directly callable after loading.\n"
     ]
    },
    {
     "name": "stdout",
     "output_type": "stream",
     "text": [
      "INFO:tensorflow:Assets written to: model\\assets\n"
     ]
    },
    {
     "name": "stderr",
     "output_type": "stream",
     "text": [
      "INFO:tensorflow:Assets written to: model\\assets\n"
     ]
    },
    {
     "name": "stdout",
     "output_type": "stream",
     "text": [
      "6676/6676 [==============================] - 18s 2ms/step - loss: 0.1089 - accuracy: 0.9870 - val_loss: 0.0052 - val_accuracy: 0.9994\n",
      "Epoch 2/12\n",
      "6676/6676 [==============================] - 15s 2ms/step - loss: 0.0092 - accuracy: 0.9988 - val_loss: 0.0067 - val_accuracy: 0.9995\n",
      "Epoch 3/12\n",
      "6676/6676 [==============================] - 14s 2ms/step - loss: 0.0067 - accuracy: 0.9988 - val_loss: 0.0097 - val_accuracy: 0.9994\n",
      "Epoch 4/12\n",
      "6676/6676 [==============================] - 14s 2ms/step - loss: 0.0061 - accuracy: 0.9990 - val_loss: 0.0073 - val_accuracy: 0.9995\n",
      "Epoch 5/12\n",
      "6676/6676 [==============================] - 14s 2ms/step - loss: 0.0064 - accuracy: 0.9990 - val_loss: 0.0078 - val_accuracy: 0.9995\n",
      "Epoch 6/12\n",
      "6676/6676 [==============================] - 14s 2ms/step - loss: 0.0064 - accuracy: 0.9990 - val_loss: 0.0063 - val_accuracy: 0.9995\n",
      "Epoch 7/12\n",
      "6676/6676 [==============================] - 14s 2ms/step - loss: 0.0065 - accuracy: 0.9989 - val_loss: 0.0069 - val_accuracy: 0.9995\n",
      "Epoch 8/12\n",
      "6676/6676 [==============================] - 14s 2ms/step - loss: 0.0059 - accuracy: 0.9990 - val_loss: 0.0069 - val_accuracy: 0.9995\n",
      "Epoch 9/12\n",
      "6676/6676 [==============================] - 14s 2ms/step - loss: 0.0059 - accuracy: 0.9990 - val_loss: 0.0070 - val_accuracy: 0.9995\n",
      "Epoch 10/12\n",
      "6676/6676 [==============================] - 14s 2ms/step - loss: 0.0059 - accuracy: 0.9990 - val_loss: 0.0058 - val_accuracy: 0.9995\n",
      "Epoch 11/12\n",
      "6667/6676 [============================>.] - ETA: 0s - loss: 0.0063 - accuracy: 0.9990"
     ]
    },
    {
     "name": "stderr",
     "output_type": "stream",
     "text": [
      "WARNING:absl:Found untraced functions such as _update_step_xla while saving (showing 1 of 1). These functions will not be directly callable after loading.\n"
     ]
    },
    {
     "name": "stdout",
     "output_type": "stream",
     "text": [
      "INFO:tensorflow:Assets written to: model\\assets\n"
     ]
    },
    {
     "name": "stderr",
     "output_type": "stream",
     "text": [
      "INFO:tensorflow:Assets written to: model\\assets\n"
     ]
    },
    {
     "name": "stdout",
     "output_type": "stream",
     "text": [
      "6676/6676 [==============================] - 15s 2ms/step - loss: 0.0063 - accuracy: 0.9990 - val_loss: 0.0051 - val_accuracy: 0.9995\n",
      "Epoch 12/12\n",
      "6676/6676 [==============================] - 14s 2ms/step - loss: 0.0064 - accuracy: 0.9989 - val_loss: 0.0063 - val_accuracy: 0.9995\n"
     ]
    },
    {
     "data": {
      "text/plain": [
       "<keras.callbacks.History at 0x1d3cffe22f0>"
      ]
     },
     "execution_count": 39,
     "metadata": {},
     "output_type": "execute_result"
    }
   ],
   "source": [
    "## Training the ANN model\n",
    "model.fit(x_train, y_train, validation_data=(x_val, y_val), epochs=12, callbacks=[checkpoint, early_stopping])"
   ]
  },
  {
   "cell_type": "code",
   "execution_count": 46,
   "metadata": {},
   "outputs": [
    {
     "name": "stdout",
     "output_type": "stream",
     "text": [
      "1069/1069 [==============================] - 2s 1ms/step\n"
     ]
    },
    {
     "data": {
      "text/plain": [
       "array([0, 0, 0, ..., 0, 0, 0])"
      ]
     },
     "execution_count": 46,
     "metadata": {},
     "output_type": "execute_result"
    }
   ],
   "source": [
    "## Predicting values that are above 0.5, thus \"frauds\"\n",
    "def neural_net_predictions(model, x):\n",
    "  return (model.predict(x).flatten() > 0.5).astype(int)\n",
    "neural_net_predictions(model, x_val)"
   ]
  },
  {
   "cell_type": "code",
   "execution_count": 41,
   "metadata": {},
   "outputs": [
    {
     "name": "stdout",
     "output_type": "stream",
     "text": [
      "1069/1069 [==============================] - 2s 1ms/step\n",
      "              precision    recall  f1-score   support\n",
      "\n",
      "   Not Fraud       1.00      1.00      1.00     34118\n",
      "       Fraud       0.86      0.83      0.84        59\n",
      "\n",
      "    accuracy                           1.00     34177\n",
      "   macro avg       0.93      0.92      0.92     34177\n",
      "weighted avg       1.00      1.00      1.00     34177\n",
      "\n"
     ]
    }
   ],
   "source": [
    "print(classification_report(y_val, neural_net_predictions(model, x_val), target_names=['Not Fraud', 'Fraud']))"
   ]
  },
  {
   "cell_type": "code",
   "execution_count": 42,
   "metadata": {},
   "outputs": [
    {
     "name": "stdout",
     "output_type": "stream",
     "text": [
      "6676/6676 [==============================] - 11s 2ms/step - loss: 0.0069 - accuracy: 0.9994\n",
      "Training Accuracy: 99.94%\n",
      "\n",
      "1158/1158 [==============================] - 2s 2ms/step - loss: 0.0054 - accuracy: 0.9994\n",
      "Testing Accuracy: 99.94%\n",
      "\n"
     ]
    }
   ],
   "source": [
    "## Train and Test accuracy model evaluation \n",
    "scores = model.evaluate(x_train,y_train)\n",
    "print(\"Training Accuracy: %.2f%%\\n\" % (scores[1]*100))\n",
    "scores = model.evaluate(x_test,y_test)\n",
    "print(\"Testing Accuracy: %.2f%%\\n\" % (scores[1]*100))"
   ]
  },
  {
   "cell_type": "code",
   "execution_count": 44,
   "metadata": {},
   "outputs": [
    {
     "name": "stdout",
     "output_type": "stream",
     "text": [
      "   1/1158 [..............................] - ETA: 56s"
     ]
    },
    {
     "name": "stdout",
     "output_type": "stream",
     "text": [
      "1158/1158 [==============================] - 2s 1ms/step\n",
      "[[0. 0.]\n",
      " [0. 0.]\n",
      " [0. 0.]\n",
      " ...\n",
      " [0. 0.]\n",
      " [0. 0.]\n",
      " [0. 0.]]\n"
     ]
    }
   ],
   "source": [
    "## Making a prediction\n",
    "y_pred = model.predict(x_test).flatten()\n",
    "y_pred = (y_pred > 0.5)\n",
    "print(np.concatenate((y_pred.reshape(len(y_pred),1), y_test.reshape(len(y_test),1)),1))"
   ]
  },
  {
   "cell_type": "code",
   "execution_count": 47,
   "metadata": {},
   "outputs": [
    {
     "name": "stdout",
     "output_type": "stream",
     "text": [
      "[[36940    11]\n",
      " [   11    63]]\n"
     ]
    },
    {
     "data": {
      "text/plain": [
       "99.94"
      ]
     },
     "execution_count": 47,
     "metadata": {},
     "output_type": "execute_result"
    }
   ],
   "source": [
    "## Creating a confusion matrix object and \n",
    "cm = confusion_matrix(y_test, y_pred)\n",
    "print(cm)\n",
    "round(accuracy_score(y_test, y_pred)*100, 2)"
   ]
  },
  {
   "cell_type": "code",
   "execution_count": 48,
   "metadata": {},
   "outputs": [
    {
     "data": {
      "image/png": "[encoded data removed]",
      "text/plain": [
       "<Figure size 1200x1200 with 1 Axes>"
      ]
     },
     "metadata": {},
     "output_type": "display_data"
    },
    {
     "data": {
      "text/plain": [
       "<Figure size 640x480 with 0 Axes>"
      ]
     },
     "metadata": {},
     "output_type": "display_data"
    }
   ],
   "source": [
    "## Plotting the confusion matrix with the help of a seaborn heatmap\n",
    "plt.subplots(figsize=(12, 12))\n",
    "sns.heatmap(cm, annot=True, xticklabels=[\"No Fraud\",'Fraud'], yticklabels=['No Fraud','Fraud'],\n",
    "                cbar=False,cmap='Blues', fmt='g')\n",
    "plt.figure().savefig( 'confusion_matrix_heatmap_imbalanced.png', dpi=200)\n",
    "plt.show()\n",
    "\n"
   ]
  },
  {
   "cell_type": "code",
   "execution_count": 29,
   "metadata": {},
   "outputs": [
    {
     "name": "stdout",
     "output_type": "stream",
     "text": [
      "              precision    recall  f1-score   support\n",
      "\n",
      "   Not Fraud       1.00      1.00      1.00     34118\n",
      "       Fraud       0.98      0.81      0.89        59\n",
      "\n",
      "    accuracy                           1.00     34177\n",
      "   macro avg       0.99      0.91      0.94     34177\n",
      "weighted avg       1.00      1.00      1.00     34177\n",
      "\n"
     ]
    }
   ],
   "source": [
    "## Deploying a random forest object and making a prediction\n",
    "rf = RandomForestClassifier(max_depth=7, n_jobs=-1)\n",
    "rf.fit(x_train, y_train)\n",
    "## Printing the classification report results of the random forest predictor\n",
    "print(classification_report(y_val, rf.predict(x_val), target_names=['Not Fraud', 'Fraud']))"
   ]
  },
  {
   "cell_type": "code",
   "execution_count": 30,
   "metadata": {},
   "outputs": [
    {
     "name": "stdout",
     "output_type": "stream",
     "text": [
      "              precision    recall  f1-score   support\n",
      "\n",
      "   Not Fraud       1.00      1.00      1.00     34118\n",
      "       Fraud       0.80      0.76      0.78        59\n",
      "\n",
      "    accuracy                           1.00     34177\n",
      "   macro avg       0.90      0.88      0.89     34177\n",
      "weighted avg       1.00      1.00      1.00     34177\n",
      "\n"
     ]
    }
   ],
   "source": [
    "## Deploying a Gradient Boost object and making a prediction\n",
    "gbc = GradientBoostingClassifier(n_estimators=50, learning_rate=1.0, max_depth=2, random_state=0)\n",
    "gbc.fit(x_train, y_train)\n",
    "## Printing the classification report results of gradient boost predictor\n",
    "print(classification_report(y_val, gbc.predict(x_val), target_names=['Not Fraud', 'Fraud']))"
   ]
  },
  {
   "cell_type": "code",
   "execution_count": null,
   "metadata": {},
   "outputs": [],
   "source": [
    "train_set"
   ]
  },
  {
   "cell_type": "markdown",
   "metadata": {},
   "source": [
    "## Undersampling to counter the effects of the imbalanced dataset"
   ]
  },
  {
   "cell_type": "code",
   "execution_count": 10,
   "metadata": {},
   "outputs": [
    {
     "data": {
      "text/plain": [
       "(Class\n",
       " 0    284315\n",
       " Name: count, dtype: int64,\n",
       " Class\n",
       " 1    492\n",
       " Name: count, dtype: int64)"
      ]
     },
     "execution_count": 10,
     "metadata": {},
     "output_type": "execute_result"
    }
   ],
   "source": [
    "## \n",
    "not_frauds = new_data.query('Class == 0')\n",
    "frauds = new_data.query('Class == 1')\n",
    "not_frauds['Class'].value_counts(), frauds['Class'].value_counts()"
   ]
  },
  {
   "cell_type": "code",
   "execution_count": 11,
   "metadata": {},
   "outputs": [
    {
     "data": {
      "text/plain": [
       "Class\n",
       "0    284315\n",
       "Name: count, dtype: int64"
      ]
     },
     "execution_count": 11,
     "metadata": {},
     "output_type": "execute_result"
    }
   ],
   "source": [
    "not_frauds['Class'].value_counts()"
   ]
  },
  {
   "cell_type": "code",
   "execution_count": 12,
   "metadata": {},
   "outputs": [
    {
     "data": {
      "text/plain": [
       "Class\n",
       "1    492\n",
       "0    492\n",
       "Name: count, dtype: int64"
      ]
     },
     "execution_count": 12,
     "metadata": {},
     "output_type": "execute_result"
    }
   ],
   "source": [
    "## Picking a random amount of \"not fraud\" observations based on the total amount of \"fraud\" ones, then concatenating them together into a dataframe\n",
    "balanced_data = pd.concat([frauds, not_frauds.sample(len(frauds), random_state=1)])\n",
    "balanced_data['Class'].value_counts()"
   ]
  },
  {
   "cell_type": "code",
   "execution_count": null,
   "metadata": {},
   "outputs": [],
   "source": [
    "plt.figure(figsize=(12, 8))  ## Setting the size of the figure (width=8 inches, height=6 inches)\n",
    "ax = sns.countplot(x='Class', data=balanced_data, palette='magma', edgecolor='black')\n",
    "\n",
    "## Customizing the plot with labels and title\n",
    "plt.title('Credit Card Transactions - \"0\" Stands for \"Not Fraud\", \"0\" Stands for \"Not Fraud\"')\n",
    "plt.xlabel('Class Label')\n",
    "plt.ylabel('Transactions')\n",
    "\n",
    "## Adding annotations above the bars showing the exact counts\n",
    "for p in ax.patches:\n",
    "    ax.annotate(int(p.get_height()), (p.get_x() + p.get_width() / 2, p.get_height()), ha='center', va='bottom')\n",
    "\n",
    "plt.show()"
   ]
  },
  {
   "cell_type": "code",
   "execution_count": 13,
   "metadata": {},
   "outputs": [
    {
     "name": "stdout",
     "output_type": "stream",
     "text": [
      "<class 'pandas.core.frame.DataFrame'>\n",
      "Index: 984 entries, 541 to 138224\n",
      "Data columns (total 31 columns):\n",
      " #   Column  Non-Null Count  Dtype  \n",
      "---  ------  --------------  -----  \n",
      " 0   Time    984 non-null    float64\n",
      " 1   V1      984 non-null    float64\n",
      " 2   V2      984 non-null    float64\n",
      " 3   V3      984 non-null    float64\n",
      " 4   V4      984 non-null    float64\n",
      " 5   V5      984 non-null    float64\n",
      " 6   V6      984 non-null    float64\n",
      " 7   V7      984 non-null    float64\n",
      " 8   V8      984 non-null    float64\n",
      " 9   V9      984 non-null    float64\n",
      " 10  V10     984 non-null    float64\n",
      " 11  V11     984 non-null    float64\n",
      " 12  V12     984 non-null    float64\n",
      " 13  V13     984 non-null    float64\n",
      " 14  V14     984 non-null    float64\n",
      " 15  V15     984 non-null    float64\n",
      " 16  V16     984 non-null    float64\n",
      " 17  V17     984 non-null    float64\n",
      " 18  V18     984 non-null    float64\n",
      " 19  V19     984 non-null    float64\n",
      " 20  V20     984 non-null    float64\n",
      " 21  V21     984 non-null    float64\n",
      " 22  V22     984 non-null    float64\n",
      " 23  V23     984 non-null    float64\n",
      " 24  V24     984 non-null    float64\n",
      " 25  V25     984 non-null    float64\n",
      " 26  V26     984 non-null    float64\n",
      " 27  V27     984 non-null    float64\n",
      " 28  V28     984 non-null    float64\n",
      " 29  Amount  984 non-null    float64\n",
      " 30  Class   984 non-null    int64  \n",
      "dtypes: float64(30), int64(1)\n",
      "memory usage: 246.0 KB\n"
     ]
    }
   ],
   "source": [
    "balanced_data.info()\n",
    "\n",
    "\n"
   ]
  },
  {
   "cell_type": "code",
   "execution_count": 14,
   "metadata": {},
   "outputs": [],
   "source": [
    "balanced_data_np = balanced_data.to_numpy()"
   ]
  },
  {
   "cell_type": "code",
   "execution_count": 15,
   "metadata": {},
   "outputs": [],
   "source": [
    "X = balanced_data.drop(columns='Class', axis=1)\n",
    "Y = balanced_data['Class']"
   ]
  },
  {
   "cell_type": "code",
   "execution_count": 16,
   "metadata": {},
   "outputs": [],
   "source": [
    "x_train_c, x_test_c, y_train_c, y_test_c = train_test_split(X, Y, test_size=0.2, stratify=Y, random_state=2)\n",
    "x_train_c, x_val_c, y_train_c, y_val_c = train_test_split(x_train_c, y_train_c, test_size=0.25, random_state=1) ## 0.25 x 0.8 = 0.2"
   ]
  },
  {
   "cell_type": "code",
   "execution_count": 17,
   "metadata": {},
   "outputs": [
    {
     "data": {
      "text/plain": [
       "((590, 30), (590,), (197, 30), (197,))"
      ]
     },
     "execution_count": 17,
     "metadata": {},
     "output_type": "execute_result"
    }
   ],
   "source": [
    "x_train_c.shape, y_train_c.shape, x_test_c.shape, y_test_c.shape"
   ]
  },
  {
   "cell_type": "code",
   "execution_count": 18,
   "metadata": {},
   "outputs": [
    {
     "data": {
      "text/plain": [
       "(Class\n",
       " 0    298\n",
       " 1    292\n",
       " Name: count, dtype: int64,\n",
       " Class\n",
       " 0    99\n",
       " 1    98\n",
       " Name: count, dtype: int64,\n",
       " Class\n",
       " 1    102\n",
       " 0     95\n",
       " Name: count, dtype: int64)"
      ]
     },
     "execution_count": 18,
     "metadata": {},
     "output_type": "execute_result"
    }
   ],
   "source": [
    "pd.Series(y_train_c).value_counts(), pd.Series(y_test_c).value_counts(), pd.Series(y_val_c).value_counts()"
   ]
  },
  {
   "cell_type": "code",
   "execution_count": 19,
   "metadata": {},
   "outputs": [
    {
     "name": "stdout",
     "output_type": "stream",
     "text": [
      "              precision    recall  f1-score   support\n",
      "\n",
      "   Not Fraud       0.91      0.98      0.94        99\n",
      "       Fraud       0.98      0.90      0.94        98\n",
      "\n",
      "    accuracy                           0.94       197\n",
      "   macro avg       0.94      0.94      0.94       197\n",
      "weighted avg       0.94      0.94      0.94       197\n",
      "\n"
     ]
    }
   ],
   "source": [
    "logistic_model_b = LogisticRegression()\n",
    "logistic_model_b.fit(x_train_c, y_train_c)\n",
    "print(classification_report(y_test_c, logistic_model_b.predict(x_test_c), target_names=['Not Fraud', 'Fraud']))"
   ]
  },
  {
   "cell_type": "code",
   "execution_count": 33,
   "metadata": {},
   "outputs": [],
   "source": [
    "early_stopping_b = callbacks.EarlyStopping(\n",
    "    min_delta=0.001, ## Minimum amount of change to count as an improvement\n",
    "    patience=20, ## How many epochs to wait before stopping\n",
    "    restore_best_weights=True)"
   ]
  },
  {
   "cell_type": "code",
   "execution_count": 34,
   "metadata": {},
   "outputs": [
    {
     "name": "stdout",
     "output_type": "stream",
     "text": [
      "Epoch 1/100\n",
      " 1/19 [>.............................] - ETA: 31s - loss: 0.9657 - accuracy: 0.3750"
     ]
    },
    {
     "name": "stderr",
     "output_type": "stream",
     "text": [
      "WARNING:absl:Found untraced functions such as _update_step_xla while saving (showing 1 of 1). These functions will not be directly callable after loading.\n"
     ]
    },
    {
     "name": "stdout",
     "output_type": "stream",
     "text": [
      "INFO:tensorflow:Assets written to: model_b\\assets\n"
     ]
    },
    {
     "name": "stderr",
     "output_type": "stream",
     "text": [
      "INFO:tensorflow:Assets written to: model_b\\assets\n"
     ]
    },
    {
     "name": "stdout",
     "output_type": "stream",
     "text": [
      "19/19 [==============================] - 4s 117ms/step - loss: 0.7781 - accuracy: 0.5322 - val_loss: 0.7651 - val_accuracy: 0.6091\n",
      "Epoch 2/100\n",
      " 1/19 [>.............................] - ETA: 0s - loss: 0.9677 - accuracy: 0.4062"
     ]
    },
    {
     "name": "stderr",
     "output_type": "stream",
     "text": [
      "WARNING:absl:Found untraced functions such as _update_step_xla while saving (showing 1 of 1). These functions will not be directly callable after loading.\n"
     ]
    },
    {
     "name": "stdout",
     "output_type": "stream",
     "text": [
      "INFO:tensorflow:Assets written to: model_b\\assets\n"
     ]
    },
    {
     "name": "stderr",
     "output_type": "stream",
     "text": [
      "INFO:tensorflow:Assets written to: model_b\\assets\n"
     ]
    },
    {
     "name": "stdout",
     "output_type": "stream",
     "text": [
      "19/19 [==============================] - 1s 70ms/step - loss: 0.7080 - accuracy: 0.5949 - val_loss: 0.6860 - val_accuracy: 0.6548\n",
      "Epoch 3/100\n",
      " 1/19 [>.............................] - ETA: 0s - loss: 0.7914 - accuracy: 0.5312"
     ]
    },
    {
     "name": "stderr",
     "output_type": "stream",
     "text": [
      "WARNING:absl:Found untraced functions such as _update_step_xla while saving (showing 1 of 1). These functions will not be directly callable after loading.\n"
     ]
    },
    {
     "name": "stdout",
     "output_type": "stream",
     "text": [
      "INFO:tensorflow:Assets written to: model_b\\assets\n"
     ]
    },
    {
     "name": "stderr",
     "output_type": "stream",
     "text": [
      "INFO:tensorflow:Assets written to: model_b\\assets\n"
     ]
    },
    {
     "name": "stdout",
     "output_type": "stream",
     "text": [
      "19/19 [==============================] - 2s 110ms/step - loss: 0.6639 - accuracy: 0.6237 - val_loss: 0.6517 - val_accuracy: 0.6599\n",
      "Epoch 4/100\n",
      "18/19 [===========================>..] - ETA: 0s - loss: 0.6247 - accuracy: 0.6615"
     ]
    },
    {
     "name": "stderr",
     "output_type": "stream",
     "text": [
      "WARNING:absl:Found untraced functions such as _update_step_xla while saving (showing 1 of 1). These functions will not be directly callable after loading.\n"
     ]
    },
    {
     "name": "stdout",
     "output_type": "stream",
     "text": [
      "INFO:tensorflow:Assets written to: model_b\\assets\n"
     ]
    },
    {
     "name": "stderr",
     "output_type": "stream",
     "text": [
      "INFO:tensorflow:Assets written to: model_b\\assets\n"
     ]
    },
    {
     "name": "stdout",
     "output_type": "stream",
     "text": [
      "19/19 [==============================] - 1s 76ms/step - loss: 0.6289 - accuracy: 0.6593 - val_loss: 0.6327 - val_accuracy: 0.6802\n",
      "Epoch 5/100\n",
      " 1/19 [>.............................] - ETA: 0s - loss: 0.5525 - accuracy: 0.6250"
     ]
    },
    {
     "name": "stderr",
     "output_type": "stream",
     "text": [
      "WARNING:absl:Found untraced functions such as _update_step_xla while saving (showing 1 of 1). These functions will not be directly callable after loading.\n"
     ]
    },
    {
     "name": "stdout",
     "output_type": "stream",
     "text": [
      "INFO:tensorflow:Assets written to: model_b\\assets\n"
     ]
    },
    {
     "name": "stderr",
     "output_type": "stream",
     "text": [
      "INFO:tensorflow:Assets written to: model_b\\assets\n"
     ]
    },
    {
     "name": "stdout",
     "output_type": "stream",
     "text": [
      "19/19 [==============================] - 1s 73ms/step - loss: 0.6199 - accuracy: 0.6864 - val_loss: 0.6150 - val_accuracy: 0.7005\n",
      "Epoch 6/100\n",
      " 1/19 [>.............................] - ETA: 0s - loss: 0.7385 - accuracy: 0.6250"
     ]
    },
    {
     "name": "stderr",
     "output_type": "stream",
     "text": [
      "WARNING:absl:Found untraced functions such as _update_step_xla while saving (showing 1 of 1). These functions will not be directly callable after loading.\n"
     ]
    },
    {
     "name": "stdout",
     "output_type": "stream",
     "text": [
      "INFO:tensorflow:Assets written to: model_b\\assets\n"
     ]
    },
    {
     "name": "stderr",
     "output_type": "stream",
     "text": [
      "INFO:tensorflow:Assets written to: model_b\\assets\n"
     ]
    },
    {
     "name": "stdout",
     "output_type": "stream",
     "text": [
      "19/19 [==============================] - 1s 73ms/step - loss: 0.5887 - accuracy: 0.7017 - val_loss: 0.6036 - val_accuracy: 0.7107\n",
      "Epoch 7/100\n",
      " 1/19 [>.............................] - ETA: 0s - loss: 0.6659 - accuracy: 0.6250"
     ]
    },
    {
     "name": "stderr",
     "output_type": "stream",
     "text": [
      "WARNING:absl:Found untraced functions such as _update_step_xla while saving (showing 1 of 1). These functions will not be directly callable after loading.\n"
     ]
    },
    {
     "name": "stdout",
     "output_type": "stream",
     "text": [
      "INFO:tensorflow:Assets written to: model_b\\assets\n"
     ]
    },
    {
     "name": "stderr",
     "output_type": "stream",
     "text": [
      "INFO:tensorflow:Assets written to: model_b\\assets\n"
     ]
    },
    {
     "name": "stdout",
     "output_type": "stream",
     "text": [
      "19/19 [==============================] - 1s 68ms/step - loss: 0.5843 - accuracy: 0.7136 - val_loss: 0.5911 - val_accuracy: 0.7868\n",
      "Epoch 8/100\n",
      " 1/19 [>.............................] - ETA: 0s - loss: 0.5845 - accuracy: 0.7500"
     ]
    },
    {
     "name": "stderr",
     "output_type": "stream",
     "text": [
      "WARNING:absl:Found untraced functions such as _update_step_xla while saving (showing 1 of 1). These functions will not be directly callable after loading.\n"
     ]
    },
    {
     "name": "stdout",
     "output_type": "stream",
     "text": [
      "INFO:tensorflow:Assets written to: model_b\\assets\n"
     ]
    },
    {
     "name": "stderr",
     "output_type": "stream",
     "text": [
      "INFO:tensorflow:Assets written to: model_b\\assets\n"
     ]
    },
    {
     "name": "stdout",
     "output_type": "stream",
     "text": [
      "19/19 [==============================] - 1s 74ms/step - loss: 0.5681 - accuracy: 0.7525 - val_loss: 0.5807 - val_accuracy: 0.8071\n",
      "Epoch 9/100\n",
      " 1/19 [>.............................] - ETA: 0s - loss: 0.6680 - accuracy: 0.6562"
     ]
    },
    {
     "name": "stderr",
     "output_type": "stream",
     "text": [
      "WARNING:absl:Found untraced functions such as _update_step_xla while saving (showing 1 of 1). These functions will not be directly callable after loading.\n"
     ]
    },
    {
     "name": "stdout",
     "output_type": "stream",
     "text": [
      "INFO:tensorflow:Assets written to: model_b\\assets\n"
     ]
    },
    {
     "name": "stderr",
     "output_type": "stream",
     "text": [
      "INFO:tensorflow:Assets written to: model_b\\assets\n"
     ]
    },
    {
     "name": "stdout",
     "output_type": "stream",
     "text": [
      "19/19 [==============================] - 1s 70ms/step - loss: 0.5600 - accuracy: 0.7763 - val_loss: 0.5700 - val_accuracy: 0.8376\n",
      "Epoch 10/100\n",
      " 1/19 [>.............................] - ETA: 0s - loss: 0.5526 - accuracy: 0.7812"
     ]
    },
    {
     "name": "stderr",
     "output_type": "stream",
     "text": [
      "WARNING:absl:Found untraced functions such as _update_step_xla while saving (showing 1 of 1). These functions will not be directly callable after loading.\n"
     ]
    },
    {
     "name": "stdout",
     "output_type": "stream",
     "text": [
      "INFO:tensorflow:Assets written to: model_b\\assets\n"
     ]
    },
    {
     "name": "stderr",
     "output_type": "stream",
     "text": [
      "INFO:tensorflow:Assets written to: model_b\\assets\n"
     ]
    },
    {
     "name": "stdout",
     "output_type": "stream",
     "text": [
      "19/19 [==============================] - 1s 72ms/step - loss: 0.5494 - accuracy: 0.7780 - val_loss: 0.5601 - val_accuracy: 0.8528\n",
      "Epoch 11/100\n",
      "14/19 [=====================>........] - ETA: 0s - loss: 0.5360 - accuracy: 0.8237"
     ]
    },
    {
     "name": "stderr",
     "output_type": "stream",
     "text": [
      "WARNING:absl:Found untraced functions such as _update_step_xla while saving (showing 1 of 1). These functions will not be directly callable after loading.\n"
     ]
    },
    {
     "name": "stdout",
     "output_type": "stream",
     "text": [
      "INFO:tensorflow:Assets written to: model_b\\assets\n"
     ]
    },
    {
     "name": "stderr",
     "output_type": "stream",
     "text": [
      "INFO:tensorflow:Assets written to: model_b\\assets\n"
     ]
    },
    {
     "name": "stdout",
     "output_type": "stream",
     "text": [
      "19/19 [==============================] - 1s 68ms/step - loss: 0.5265 - accuracy: 0.8153 - val_loss: 0.5486 - val_accuracy: 0.8731\n",
      "Epoch 12/100\n",
      " 1/19 [>.............................] - ETA: 0s - loss: 0.4279 - accuracy: 0.8438"
     ]
    },
    {
     "name": "stderr",
     "output_type": "stream",
     "text": [
      "WARNING:absl:Found untraced functions such as _update_step_xla while saving (showing 1 of 1). These functions will not be directly callable after loading.\n"
     ]
    },
    {
     "name": "stdout",
     "output_type": "stream",
     "text": [
      "INFO:tensorflow:Assets written to: model_b\\assets\n"
     ]
    },
    {
     "name": "stderr",
     "output_type": "stream",
     "text": [
      "INFO:tensorflow:Assets written to: model_b\\assets\n"
     ]
    },
    {
     "name": "stdout",
     "output_type": "stream",
     "text": [
      "19/19 [==============================] - 2s 88ms/step - loss: 0.5021 - accuracy: 0.8119 - val_loss: 0.5374 - val_accuracy: 0.8731\n",
      "Epoch 13/100\n",
      "13/19 [===================>..........] - ETA: 0s - loss: 0.5113 - accuracy: 0.8293"
     ]
    },
    {
     "name": "stderr",
     "output_type": "stream",
     "text": [
      "WARNING:absl:Found untraced functions such as _update_step_xla while saving (showing 1 of 1). These functions will not be directly callable after loading.\n"
     ]
    },
    {
     "name": "stdout",
     "output_type": "stream",
     "text": [
      "INFO:tensorflow:Assets written to: model_b\\assets\n"
     ]
    },
    {
     "name": "stderr",
     "output_type": "stream",
     "text": [
      "INFO:tensorflow:Assets written to: model_b\\assets\n"
     ]
    },
    {
     "name": "stdout",
     "output_type": "stream",
     "text": [
      "19/19 [==============================] - 1s 71ms/step - loss: 0.5042 - accuracy: 0.8373 - val_loss: 0.5269 - val_accuracy: 0.8832\n",
      "Epoch 14/100\n",
      " 1/19 [>.............................] - ETA: 0s - loss: 0.4706 - accuracy: 0.9688"
     ]
    },
    {
     "name": "stderr",
     "output_type": "stream",
     "text": [
      "WARNING:absl:Found untraced functions such as _update_step_xla while saving (showing 1 of 1). These functions will not be directly callable after loading.\n"
     ]
    },
    {
     "name": "stdout",
     "output_type": "stream",
     "text": [
      "INFO:tensorflow:Assets written to: model_b\\assets\n"
     ]
    },
    {
     "name": "stderr",
     "output_type": "stream",
     "text": [
      "INFO:tensorflow:Assets written to: model_b\\assets\n"
     ]
    },
    {
     "name": "stdout",
     "output_type": "stream",
     "text": [
      "19/19 [==============================] - 1s 75ms/step - loss: 0.4861 - accuracy: 0.8593 - val_loss: 0.5157 - val_accuracy: 0.8832\n",
      "Epoch 15/100\n",
      " 1/19 [>.............................] - ETA: 0s - loss: 0.4374 - accuracy: 0.9062"
     ]
    },
    {
     "name": "stderr",
     "output_type": "stream",
     "text": [
      "WARNING:absl:Found untraced functions such as _update_step_xla while saving (showing 1 of 1). These functions will not be directly callable after loading.\n"
     ]
    },
    {
     "name": "stdout",
     "output_type": "stream",
     "text": [
      "INFO:tensorflow:Assets written to: model_b\\assets\n"
     ]
    },
    {
     "name": "stderr",
     "output_type": "stream",
     "text": [
      "INFO:tensorflow:Assets written to: model_b\\assets\n"
     ]
    },
    {
     "name": "stdout",
     "output_type": "stream",
     "text": [
      "19/19 [==============================] - 1s 75ms/step - loss: 0.4682 - accuracy: 0.8610 - val_loss: 0.5063 - val_accuracy: 0.8934\n",
      "Epoch 16/100\n",
      " 1/19 [>.............................] - ETA: 0s - loss: 0.4651 - accuracy: 0.8750"
     ]
    },
    {
     "name": "stderr",
     "output_type": "stream",
     "text": [
      "WARNING:absl:Found untraced functions such as _update_step_xla while saving (showing 1 of 1). These functions will not be directly callable after loading.\n"
     ]
    },
    {
     "name": "stdout",
     "output_type": "stream",
     "text": [
      "INFO:tensorflow:Assets written to: model_b\\assets\n"
     ]
    },
    {
     "name": "stderr",
     "output_type": "stream",
     "text": [
      "INFO:tensorflow:Assets written to: model_b\\assets\n"
     ]
    },
    {
     "name": "stdout",
     "output_type": "stream",
     "text": [
      "19/19 [==============================] - 1s 77ms/step - loss: 0.4606 - accuracy: 0.8780 - val_loss: 0.4976 - val_accuracy: 0.8934\n",
      "Epoch 17/100\n",
      "19/19 [==============================] - ETA: 0s - loss: 0.4523 - accuracy: 0.8729"
     ]
    },
    {
     "name": "stderr",
     "output_type": "stream",
     "text": [
      "WARNING:absl:Found untraced functions such as _update_step_xla while saving (showing 1 of 1). These functions will not be directly callable after loading.\n"
     ]
    },
    {
     "name": "stdout",
     "output_type": "stream",
     "text": [
      "INFO:tensorflow:Assets written to: model_b\\assets\n"
     ]
    },
    {
     "name": "stderr",
     "output_type": "stream",
     "text": [
      "INFO:tensorflow:Assets written to: model_b\\assets\n"
     ]
    },
    {
     "name": "stdout",
     "output_type": "stream",
     "text": [
      "19/19 [==============================] - 1s 75ms/step - loss: 0.4523 - accuracy: 0.8729 - val_loss: 0.4883 - val_accuracy: 0.9036\n",
      "Epoch 18/100\n",
      " 1/19 [>.............................] - ETA: 0s - loss: 0.4076 - accuracy: 0.9375"
     ]
    },
    {
     "name": "stderr",
     "output_type": "stream",
     "text": [
      "WARNING:absl:Found untraced functions such as _update_step_xla while saving (showing 1 of 1). These functions will not be directly callable after loading.\n"
     ]
    },
    {
     "name": "stdout",
     "output_type": "stream",
     "text": [
      "INFO:tensorflow:Assets written to: model_b\\assets\n"
     ]
    },
    {
     "name": "stderr",
     "output_type": "stream",
     "text": [
      "INFO:tensorflow:Assets written to: model_b\\assets\n"
     ]
    },
    {
     "name": "stdout",
     "output_type": "stream",
     "text": [
      "19/19 [==============================] - 1s 75ms/step - loss: 0.4389 - accuracy: 0.8780 - val_loss: 0.4800 - val_accuracy: 0.9036\n",
      "Epoch 19/100\n",
      " 1/19 [>.............................] - ETA: 0s - loss: 0.4599 - accuracy: 0.9062"
     ]
    },
    {
     "name": "stderr",
     "output_type": "stream",
     "text": [
      "WARNING:absl:Found untraced functions such as _update_step_xla while saving (showing 1 of 1). These functions will not be directly callable after loading.\n"
     ]
    },
    {
     "name": "stdout",
     "output_type": "stream",
     "text": [
      "INFO:tensorflow:Assets written to: model_b\\assets\n"
     ]
    },
    {
     "name": "stderr",
     "output_type": "stream",
     "text": [
      "INFO:tensorflow:Assets written to: model_b\\assets\n"
     ]
    },
    {
     "name": "stdout",
     "output_type": "stream",
     "text": [
      "19/19 [==============================] - 1s 80ms/step - loss: 0.4357 - accuracy: 0.8949 - val_loss: 0.4722 - val_accuracy: 0.9036\n",
      "Epoch 20/100\n",
      " 1/19 [>.............................] - ETA: 0s - loss: 0.3821 - accuracy: 0.9375"
     ]
    },
    {
     "name": "stderr",
     "output_type": "stream",
     "text": [
      "WARNING:absl:Found untraced functions such as _update_step_xla while saving (showing 1 of 1). These functions will not be directly callable after loading.\n"
     ]
    },
    {
     "name": "stdout",
     "output_type": "stream",
     "text": [
      "INFO:tensorflow:Assets written to: model_b\\assets\n"
     ]
    },
    {
     "name": "stderr",
     "output_type": "stream",
     "text": [
      "INFO:tensorflow:Assets written to: model_b\\assets\n"
     ]
    },
    {
     "name": "stdout",
     "output_type": "stream",
     "text": [
      "19/19 [==============================] - 2s 97ms/step - loss: 0.4127 - accuracy: 0.9051 - val_loss: 0.4633 - val_accuracy: 0.9036\n",
      "Epoch 21/100\n",
      " 1/19 [>.............................] - ETA: 0s - loss: 0.3336 - accuracy: 0.9375"
     ]
    },
    {
     "name": "stderr",
     "output_type": "stream",
     "text": [
      "WARNING:absl:Found untraced functions such as _update_step_xla while saving (showing 1 of 1). These functions will not be directly callable after loading.\n"
     ]
    },
    {
     "name": "stdout",
     "output_type": "stream",
     "text": [
      "INFO:tensorflow:Assets written to: model_b\\assets\n"
     ]
    },
    {
     "name": "stderr",
     "output_type": "stream",
     "text": [
      "INFO:tensorflow:Assets written to: model_b\\assets\n"
     ]
    },
    {
     "name": "stdout",
     "output_type": "stream",
     "text": [
      "19/19 [==============================] - 1s 76ms/step - loss: 0.4055 - accuracy: 0.8847 - val_loss: 0.4576 - val_accuracy: 0.9036\n",
      "Epoch 22/100\n",
      " 1/19 [>.............................] - ETA: 0s - loss: 0.3709 - accuracy: 0.9688"
     ]
    },
    {
     "name": "stderr",
     "output_type": "stream",
     "text": [
      "WARNING:absl:Found untraced functions such as _update_step_xla while saving (showing 1 of 1). These functions will not be directly callable after loading.\n"
     ]
    },
    {
     "name": "stdout",
     "output_type": "stream",
     "text": [
      "INFO:tensorflow:Assets written to: model_b\\assets\n"
     ]
    },
    {
     "name": "stderr",
     "output_type": "stream",
     "text": [
      "INFO:tensorflow:Assets written to: model_b\\assets\n"
     ]
    },
    {
     "name": "stdout",
     "output_type": "stream",
     "text": [
      "19/19 [==============================] - 1s 71ms/step - loss: 0.3959 - accuracy: 0.8983 - val_loss: 0.4502 - val_accuracy: 0.9036\n",
      "Epoch 23/100\n",
      " 1/19 [>.............................] - ETA: 0s - loss: 0.3567 - accuracy: 0.8438"
     ]
    },
    {
     "name": "stderr",
     "output_type": "stream",
     "text": [
      "WARNING:absl:Found untraced functions such as _update_step_xla while saving (showing 1 of 1). These functions will not be directly callable after loading.\n"
     ]
    },
    {
     "name": "stdout",
     "output_type": "stream",
     "text": [
      "INFO:tensorflow:Assets written to: model_b\\assets\n"
     ]
    },
    {
     "name": "stderr",
     "output_type": "stream",
     "text": [
      "INFO:tensorflow:Assets written to: model_b\\assets\n"
     ]
    },
    {
     "name": "stdout",
     "output_type": "stream",
     "text": [
      "19/19 [==============================] - 1s 75ms/step - loss: 0.3782 - accuracy: 0.9051 - val_loss: 0.4421 - val_accuracy: 0.9086\n",
      "Epoch 24/100\n",
      " 1/19 [>.............................] - ETA: 0s - loss: 0.3408 - accuracy: 0.9062"
     ]
    },
    {
     "name": "stderr",
     "output_type": "stream",
     "text": [
      "WARNING:absl:Found untraced functions such as _update_step_xla while saving (showing 1 of 1). These functions will not be directly callable after loading.\n"
     ]
    },
    {
     "name": "stdout",
     "output_type": "stream",
     "text": [
      "INFO:tensorflow:Assets written to: model_b\\assets\n"
     ]
    },
    {
     "name": "stderr",
     "output_type": "stream",
     "text": [
      "INFO:tensorflow:Assets written to: model_b\\assets\n"
     ]
    },
    {
     "name": "stdout",
     "output_type": "stream",
     "text": [
      "19/19 [==============================] - 1s 74ms/step - loss: 0.3699 - accuracy: 0.9102 - val_loss: 0.4351 - val_accuracy: 0.9086\n",
      "Epoch 25/100\n",
      " 1/19 [>.............................] - ETA: 0s - loss: 0.5669 - accuracy: 0.8750"
     ]
    },
    {
     "name": "stderr",
     "output_type": "stream",
     "text": [
      "WARNING:absl:Found untraced functions such as _update_step_xla while saving (showing 1 of 1). These functions will not be directly callable after loading.\n"
     ]
    },
    {
     "name": "stdout",
     "output_type": "stream",
     "text": [
      "INFO:tensorflow:Assets written to: model_b\\assets\n"
     ]
    },
    {
     "name": "stderr",
     "output_type": "stream",
     "text": [
      "INFO:tensorflow:Assets written to: model_b\\assets\n"
     ]
    },
    {
     "name": "stdout",
     "output_type": "stream",
     "text": [
      "19/19 [==============================] - 1s 73ms/step - loss: 0.3775 - accuracy: 0.9119 - val_loss: 0.4269 - val_accuracy: 0.9086\n",
      "Epoch 26/100\n",
      " 1/19 [>.............................] - ETA: 0s - loss: 0.3516 - accuracy: 0.8750"
     ]
    },
    {
     "name": "stderr",
     "output_type": "stream",
     "text": [
      "WARNING:absl:Found untraced functions such as _update_step_xla while saving (showing 1 of 1). These functions will not be directly callable after loading.\n"
     ]
    },
    {
     "name": "stdout",
     "output_type": "stream",
     "text": [
      "INFO:tensorflow:Assets written to: model_b\\assets\n"
     ]
    },
    {
     "name": "stderr",
     "output_type": "stream",
     "text": [
      "INFO:tensorflow:Assets written to: model_b\\assets\n"
     ]
    },
    {
     "name": "stdout",
     "output_type": "stream",
     "text": [
      "19/19 [==============================] - 1s 70ms/step - loss: 0.3572 - accuracy: 0.9068 - val_loss: 0.4197 - val_accuracy: 0.9086\n",
      "Epoch 27/100\n",
      " 1/19 [>.............................] - ETA: 0s - loss: 0.3472 - accuracy: 0.9375"
     ]
    },
    {
     "name": "stderr",
     "output_type": "stream",
     "text": [
      "WARNING:absl:Found untraced functions such as _update_step_xla while saving (showing 1 of 1). These functions will not be directly callable after loading.\n"
     ]
    },
    {
     "name": "stdout",
     "output_type": "stream",
     "text": [
      "INFO:tensorflow:Assets written to: model_b\\assets\n"
     ]
    },
    {
     "name": "stderr",
     "output_type": "stream",
     "text": [
      "INFO:tensorflow:Assets written to: model_b\\assets\n"
     ]
    },
    {
     "name": "stdout",
     "output_type": "stream",
     "text": [
      "19/19 [==============================] - 1s 74ms/step - loss: 0.3502 - accuracy: 0.9102 - val_loss: 0.4121 - val_accuracy: 0.9086\n",
      "Epoch 28/100\n",
      " 1/19 [>.............................] - ETA: 0s - loss: 0.2967 - accuracy: 0.9688"
     ]
    },
    {
     "name": "stderr",
     "output_type": "stream",
     "text": [
      "WARNING:absl:Found untraced functions such as _update_step_xla while saving (showing 1 of 1). These functions will not be directly callable after loading.\n"
     ]
    },
    {
     "name": "stdout",
     "output_type": "stream",
     "text": [
      "INFO:tensorflow:Assets written to: model_b\\assets\n"
     ]
    },
    {
     "name": "stderr",
     "output_type": "stream",
     "text": [
      "INFO:tensorflow:Assets written to: model_b\\assets\n"
     ]
    },
    {
     "name": "stdout",
     "output_type": "stream",
     "text": [
      "19/19 [==============================] - 2s 87ms/step - loss: 0.3434 - accuracy: 0.9169 - val_loss: 0.4028 - val_accuracy: 0.9137\n",
      "Epoch 29/100\n",
      " 1/19 [>.............................] - ETA: 0s - loss: 0.3668 - accuracy: 0.9688"
     ]
    },
    {
     "name": "stderr",
     "output_type": "stream",
     "text": [
      "WARNING:absl:Found untraced functions such as _update_step_xla while saving (showing 1 of 1). These functions will not be directly callable after loading.\n"
     ]
    },
    {
     "name": "stdout",
     "output_type": "stream",
     "text": [
      "INFO:tensorflow:Assets written to: model_b\\assets\n"
     ]
    },
    {
     "name": "stderr",
     "output_type": "stream",
     "text": [
      "INFO:tensorflow:Assets written to: model_b\\assets\n"
     ]
    },
    {
     "name": "stdout",
     "output_type": "stream",
     "text": [
      "19/19 [==============================] - 1s 71ms/step - loss: 0.3371 - accuracy: 0.9203 - val_loss: 0.3946 - val_accuracy: 0.9137\n",
      "Epoch 30/100\n",
      " 1/19 [>.............................] - ETA: 0s - loss: 0.3353 - accuracy: 0.8750"
     ]
    },
    {
     "name": "stderr",
     "output_type": "stream",
     "text": [
      "WARNING:absl:Found untraced functions such as _update_step_xla while saving (showing 1 of 1). These functions will not be directly callable after loading.\n"
     ]
    },
    {
     "name": "stdout",
     "output_type": "stream",
     "text": [
      "INFO:tensorflow:Assets written to: model_b\\assets\n"
     ]
    },
    {
     "name": "stderr",
     "output_type": "stream",
     "text": [
      "INFO:tensorflow:Assets written to: model_b\\assets\n"
     ]
    },
    {
     "name": "stdout",
     "output_type": "stream",
     "text": [
      "19/19 [==============================] - 1s 70ms/step - loss: 0.3237 - accuracy: 0.9169 - val_loss: 0.3902 - val_accuracy: 0.9137\n",
      "Epoch 31/100\n",
      " 1/19 [>.............................] - ETA: 0s - loss: 0.2881 - accuracy: 0.8438"
     ]
    },
    {
     "name": "stderr",
     "output_type": "stream",
     "text": [
      "WARNING:absl:Found untraced functions such as _update_step_xla while saving (showing 1 of 1). These functions will not be directly callable after loading.\n"
     ]
    },
    {
     "name": "stdout",
     "output_type": "stream",
     "text": [
      "INFO:tensorflow:Assets written to: model_b\\assets\n"
     ]
    },
    {
     "name": "stderr",
     "output_type": "stream",
     "text": [
      "INFO:tensorflow:Assets written to: model_b\\assets\n"
     ]
    },
    {
     "name": "stdout",
     "output_type": "stream",
     "text": [
      "19/19 [==============================] - 1s 72ms/step - loss: 0.3155 - accuracy: 0.9085 - val_loss: 0.3823 - val_accuracy: 0.9188\n",
      "Epoch 32/100\n",
      " 1/19 [>.............................] - ETA: 0s - loss: 0.4344 - accuracy: 0.9062"
     ]
    },
    {
     "name": "stderr",
     "output_type": "stream",
     "text": [
      "WARNING:absl:Found untraced functions such as _update_step_xla while saving (showing 1 of 1). These functions will not be directly callable after loading.\n"
     ]
    },
    {
     "name": "stdout",
     "output_type": "stream",
     "text": [
      "INFO:tensorflow:Assets written to: model_b\\assets\n"
     ]
    },
    {
     "name": "stderr",
     "output_type": "stream",
     "text": [
      "INFO:tensorflow:Assets written to: model_b\\assets\n"
     ]
    },
    {
     "name": "stdout",
     "output_type": "stream",
     "text": [
      "19/19 [==============================] - 1s 65ms/step - loss: 0.3011 - accuracy: 0.9373 - val_loss: 0.3779 - val_accuracy: 0.9188\n",
      "Epoch 33/100\n",
      " 1/19 [>.............................] - ETA: 0s - loss: 0.2675 - accuracy: 0.9375"
     ]
    },
    {
     "name": "stderr",
     "output_type": "stream",
     "text": [
      "WARNING:absl:Found untraced functions such as _update_step_xla while saving (showing 1 of 1). These functions will not be directly callable after loading.\n"
     ]
    },
    {
     "name": "stdout",
     "output_type": "stream",
     "text": [
      "INFO:tensorflow:Assets written to: model_b\\assets\n"
     ]
    },
    {
     "name": "stderr",
     "output_type": "stream",
     "text": [
      "INFO:tensorflow:Assets written to: model_b\\assets\n"
     ]
    },
    {
     "name": "stdout",
     "output_type": "stream",
     "text": [
      "19/19 [==============================] - 1s 71ms/step - loss: 0.2884 - accuracy: 0.9186 - val_loss: 0.3716 - val_accuracy: 0.9188\n",
      "Epoch 34/100\n",
      " 1/19 [>.............................] - ETA: 0s - loss: 0.2523 - accuracy: 0.9375"
     ]
    },
    {
     "name": "stderr",
     "output_type": "stream",
     "text": [
      "WARNING:absl:Found untraced functions such as _update_step_xla while saving (showing 1 of 1). These functions will not be directly callable after loading.\n"
     ]
    },
    {
     "name": "stdout",
     "output_type": "stream",
     "text": [
      "INFO:tensorflow:Assets written to: model_b\\assets\n"
     ]
    },
    {
     "name": "stderr",
     "output_type": "stream",
     "text": [
      "INFO:tensorflow:Assets written to: model_b\\assets\n"
     ]
    },
    {
     "name": "stdout",
     "output_type": "stream",
     "text": [
      "19/19 [==============================] - 1s 69ms/step - loss: 0.2970 - accuracy: 0.9203 - val_loss: 0.3611 - val_accuracy: 0.9239\n",
      "Epoch 35/100\n",
      " 1/19 [>.............................] - ETA: 0s - loss: 0.2842 - accuracy: 0.9062"
     ]
    },
    {
     "name": "stderr",
     "output_type": "stream",
     "text": [
      "WARNING:absl:Found untraced functions such as _update_step_xla while saving (showing 1 of 1). These functions will not be directly callable after loading.\n"
     ]
    },
    {
     "name": "stdout",
     "output_type": "stream",
     "text": [
      "INFO:tensorflow:Assets written to: model_b\\assets\n"
     ]
    },
    {
     "name": "stderr",
     "output_type": "stream",
     "text": [
      "INFO:tensorflow:Assets written to: model_b\\assets\n"
     ]
    },
    {
     "name": "stdout",
     "output_type": "stream",
     "text": [
      "19/19 [==============================] - 1s 72ms/step - loss: 0.2810 - accuracy: 0.9305 - val_loss: 0.3521 - val_accuracy: 0.9239\n",
      "Epoch 36/100\n",
      " 1/19 [>.............................] - ETA: 0s - loss: 0.2277 - accuracy: 0.9375"
     ]
    },
    {
     "name": "stderr",
     "output_type": "stream",
     "text": [
      "WARNING:absl:Found untraced functions such as _update_step_xla while saving (showing 1 of 1). These functions will not be directly callable after loading.\n"
     ]
    },
    {
     "name": "stdout",
     "output_type": "stream",
     "text": [
      "INFO:tensorflow:Assets written to: model_b\\assets\n"
     ]
    },
    {
     "name": "stderr",
     "output_type": "stream",
     "text": [
      "INFO:tensorflow:Assets written to: model_b\\assets\n"
     ]
    },
    {
     "name": "stdout",
     "output_type": "stream",
     "text": [
      "19/19 [==============================] - 1s 83ms/step - loss: 0.2706 - accuracy: 0.9407 - val_loss: 0.3474 - val_accuracy: 0.9239\n",
      "Epoch 37/100\n",
      " 1/19 [>.............................] - ETA: 0s - loss: 0.1867 - accuracy: 1.0000"
     ]
    },
    {
     "name": "stderr",
     "output_type": "stream",
     "text": [
      "WARNING:absl:Found untraced functions such as _update_step_xla while saving (showing 1 of 1). These functions will not be directly callable after loading.\n"
     ]
    },
    {
     "name": "stdout",
     "output_type": "stream",
     "text": [
      "INFO:tensorflow:Assets written to: model_b\\assets\n"
     ]
    },
    {
     "name": "stderr",
     "output_type": "stream",
     "text": [
      "INFO:tensorflow:Assets written to: model_b\\assets\n"
     ]
    },
    {
     "name": "stdout",
     "output_type": "stream",
     "text": [
      "19/19 [==============================] - 1s 68ms/step - loss: 0.2704 - accuracy: 0.9356 - val_loss: 0.3463 - val_accuracy: 0.9239\n",
      "Epoch 38/100\n",
      " 1/19 [>.............................] - ETA: 0s - loss: 0.2975 - accuracy: 0.9375"
     ]
    },
    {
     "name": "stderr",
     "output_type": "stream",
     "text": [
      "WARNING:absl:Found untraced functions such as _update_step_xla while saving (showing 1 of 1). These functions will not be directly callable after loading.\n"
     ]
    },
    {
     "name": "stdout",
     "output_type": "stream",
     "text": [
      "INFO:tensorflow:Assets written to: model_b\\assets\n"
     ]
    },
    {
     "name": "stderr",
     "output_type": "stream",
     "text": [
      "INFO:tensorflow:Assets written to: model_b\\assets\n"
     ]
    },
    {
     "name": "stdout",
     "output_type": "stream",
     "text": [
      "19/19 [==============================] - 1s 72ms/step - loss: 0.2648 - accuracy: 0.9339 - val_loss: 0.3450 - val_accuracy: 0.9239\n",
      "Epoch 39/100\n",
      " 1/19 [>.............................] - ETA: 0s - loss: 0.1929 - accuracy: 0.9375"
     ]
    },
    {
     "name": "stderr",
     "output_type": "stream",
     "text": [
      "WARNING:absl:Found untraced functions such as _update_step_xla while saving (showing 1 of 1). These functions will not be directly callable after loading.\n"
     ]
    },
    {
     "name": "stdout",
     "output_type": "stream",
     "text": [
      "INFO:tensorflow:Assets written to: model_b\\assets\n"
     ]
    },
    {
     "name": "stderr",
     "output_type": "stream",
     "text": [
      "INFO:tensorflow:Assets written to: model_b\\assets\n"
     ]
    },
    {
     "name": "stdout",
     "output_type": "stream",
     "text": [
      "19/19 [==============================] - 1s 76ms/step - loss: 0.2545 - accuracy: 0.9339 - val_loss: 0.3355 - val_accuracy: 0.9239\n",
      "Epoch 40/100\n",
      " 1/19 [>.............................] - ETA: 0s - loss: 0.1331 - accuracy: 1.0000"
     ]
    },
    {
     "name": "stderr",
     "output_type": "stream",
     "text": [
      "WARNING:absl:Found untraced functions such as _update_step_xla while saving (showing 1 of 1). These functions will not be directly callable after loading.\n"
     ]
    },
    {
     "name": "stdout",
     "output_type": "stream",
     "text": [
      "INFO:tensorflow:Assets written to: model_b\\assets\n"
     ]
    },
    {
     "name": "stderr",
     "output_type": "stream",
     "text": [
      "INFO:tensorflow:Assets written to: model_b\\assets\n"
     ]
    },
    {
     "name": "stdout",
     "output_type": "stream",
     "text": [
      "19/19 [==============================] - 1s 67ms/step - loss: 0.2336 - accuracy: 0.9492 - val_loss: 0.3299 - val_accuracy: 0.9188\n",
      "Epoch 41/100\n",
      " 1/19 [>.............................] - ETA: 0s - loss: 0.2122 - accuracy: 0.9688"
     ]
    },
    {
     "name": "stderr",
     "output_type": "stream",
     "text": [
      "WARNING:absl:Found untraced functions such as _update_step_xla while saving (showing 1 of 1). These functions will not be directly callable after loading.\n"
     ]
    },
    {
     "name": "stdout",
     "output_type": "stream",
     "text": [
      "INFO:tensorflow:Assets written to: model_b\\assets\n"
     ]
    },
    {
     "name": "stderr",
     "output_type": "stream",
     "text": [
      "INFO:tensorflow:Assets written to: model_b\\assets\n"
     ]
    },
    {
     "name": "stdout",
     "output_type": "stream",
     "text": [
      "19/19 [==============================] - 1s 72ms/step - loss: 0.2370 - accuracy: 0.9390 - val_loss: 0.3261 - val_accuracy: 0.9239\n",
      "Epoch 42/100\n",
      " 1/19 [>.............................] - ETA: 0s - loss: 0.1894 - accuracy: 0.9688"
     ]
    },
    {
     "name": "stderr",
     "output_type": "stream",
     "text": [
      "WARNING:absl:Found untraced functions such as _update_step_xla while saving (showing 1 of 1). These functions will not be directly callable after loading.\n"
     ]
    },
    {
     "name": "stdout",
     "output_type": "stream",
     "text": [
      "INFO:tensorflow:Assets written to: model_b\\assets\n"
     ]
    },
    {
     "name": "stderr",
     "output_type": "stream",
     "text": [
      "INFO:tensorflow:Assets written to: model_b\\assets\n"
     ]
    },
    {
     "name": "stdout",
     "output_type": "stream",
     "text": [
      "19/19 [==============================] - 1s 71ms/step - loss: 0.2346 - accuracy: 0.9407 - val_loss: 0.3216 - val_accuracy: 0.9239\n",
      "Epoch 43/100\n",
      "18/19 [===========================>..] - ETA: 0s - loss: 0.2375 - accuracy: 0.9358"
     ]
    },
    {
     "name": "stderr",
     "output_type": "stream",
     "text": [
      "WARNING:absl:Found untraced functions such as _update_step_xla while saving (showing 1 of 1). These functions will not be directly callable after loading.\n"
     ]
    },
    {
     "name": "stdout",
     "output_type": "stream",
     "text": [
      "INFO:tensorflow:Assets written to: model_b\\assets\n"
     ]
    },
    {
     "name": "stderr",
     "output_type": "stream",
     "text": [
      "INFO:tensorflow:Assets written to: model_b\\assets\n"
     ]
    },
    {
     "name": "stdout",
     "output_type": "stream",
     "text": [
      "19/19 [==============================] - 1s 78ms/step - loss: 0.2362 - accuracy: 0.9373 - val_loss: 0.3169 - val_accuracy: 0.9239\n",
      "Epoch 44/100\n",
      " 1/19 [>.............................] - ETA: 0s - loss: 0.2721 - accuracy: 0.9375"
     ]
    },
    {
     "name": "stderr",
     "output_type": "stream",
     "text": [
      "WARNING:absl:Found untraced functions such as _update_step_xla while saving (showing 1 of 1). These functions will not be directly callable after loading.\n"
     ]
    },
    {
     "name": "stdout",
     "output_type": "stream",
     "text": [
      "INFO:tensorflow:Assets written to: model_b\\assets\n"
     ]
    },
    {
     "name": "stderr",
     "output_type": "stream",
     "text": [
      "INFO:tensorflow:Assets written to: model_b\\assets\n"
     ]
    },
    {
     "name": "stdout",
     "output_type": "stream",
     "text": [
      "19/19 [==============================] - 1s 70ms/step - loss: 0.2201 - accuracy: 0.9458 - val_loss: 0.3136 - val_accuracy: 0.9239\n",
      "Epoch 45/100\n",
      " 1/19 [>.............................] - ETA: 0s - loss: 0.2810 - accuracy: 0.8750"
     ]
    },
    {
     "name": "stderr",
     "output_type": "stream",
     "text": [
      "WARNING:absl:Found untraced functions such as _update_step_xla while saving (showing 1 of 1). These functions will not be directly callable after loading.\n"
     ]
    },
    {
     "name": "stdout",
     "output_type": "stream",
     "text": [
      "INFO:tensorflow:Assets written to: model_b\\assets\n"
     ]
    },
    {
     "name": "stderr",
     "output_type": "stream",
     "text": [
      "INFO:tensorflow:Assets written to: model_b\\assets\n"
     ]
    },
    {
     "name": "stdout",
     "output_type": "stream",
     "text": [
      "19/19 [==============================] - 2s 93ms/step - loss: 0.2266 - accuracy: 0.9441 - val_loss: 0.3090 - val_accuracy: 0.9239\n",
      "Epoch 46/100\n",
      " 1/19 [>.............................] - ETA: 0s - loss: 0.2773 - accuracy: 0.9062"
     ]
    },
    {
     "name": "stderr",
     "output_type": "stream",
     "text": [
      "WARNING:absl:Found untraced functions such as _update_step_xla while saving (showing 1 of 1). These functions will not be directly callable after loading.\n"
     ]
    },
    {
     "name": "stdout",
     "output_type": "stream",
     "text": [
      "INFO:tensorflow:Assets written to: model_b\\assets\n"
     ]
    },
    {
     "name": "stderr",
     "output_type": "stream",
     "text": [
      "INFO:tensorflow:Assets written to: model_b\\assets\n"
     ]
    },
    {
     "name": "stdout",
     "output_type": "stream",
     "text": [
      "19/19 [==============================] - 1s 80ms/step - loss: 0.2175 - accuracy: 0.9458 - val_loss: 0.3046 - val_accuracy: 0.9239\n",
      "Epoch 47/100\n",
      " 1/19 [>.............................] - ETA: 0s - loss: 0.3952 - accuracy: 0.8438"
     ]
    },
    {
     "name": "stderr",
     "output_type": "stream",
     "text": [
      "WARNING:absl:Found untraced functions such as _update_step_xla while saving (showing 1 of 1). These functions will not be directly callable after loading.\n"
     ]
    },
    {
     "name": "stdout",
     "output_type": "stream",
     "text": [
      "INFO:tensorflow:Assets written to: model_b\\assets\n"
     ]
    },
    {
     "name": "stderr",
     "output_type": "stream",
     "text": [
      "INFO:tensorflow:Assets written to: model_b\\assets\n"
     ]
    },
    {
     "name": "stdout",
     "output_type": "stream",
     "text": [
      "19/19 [==============================] - 1s 69ms/step - loss: 0.2199 - accuracy: 0.9356 - val_loss: 0.3046 - val_accuracy: 0.9239\n",
      "Epoch 48/100\n",
      " 1/19 [>.............................] - ETA: 0s - loss: 0.2450 - accuracy: 0.9688"
     ]
    },
    {
     "name": "stderr",
     "output_type": "stream",
     "text": [
      "WARNING:absl:Found untraced functions such as _update_step_xla while saving (showing 1 of 1). These functions will not be directly callable after loading.\n"
     ]
    },
    {
     "name": "stdout",
     "output_type": "stream",
     "text": [
      "INFO:tensorflow:Assets written to: model_b\\assets\n"
     ]
    },
    {
     "name": "stderr",
     "output_type": "stream",
     "text": [
      "INFO:tensorflow:Assets written to: model_b\\assets\n"
     ]
    },
    {
     "name": "stdout",
     "output_type": "stream",
     "text": [
      "19/19 [==============================] - 1s 72ms/step - loss: 0.2123 - accuracy: 0.9424 - val_loss: 0.2982 - val_accuracy: 0.9239\n",
      "Epoch 49/100\n",
      " 1/19 [>.............................] - ETA: 0s - loss: 0.1872 - accuracy: 0.9688"
     ]
    },
    {
     "name": "stderr",
     "output_type": "stream",
     "text": [
      "WARNING:absl:Found untraced functions such as _update_step_xla while saving (showing 1 of 1). These functions will not be directly callable after loading.\n"
     ]
    },
    {
     "name": "stdout",
     "output_type": "stream",
     "text": [
      "INFO:tensorflow:Assets written to: model_b\\assets\n"
     ]
    },
    {
     "name": "stderr",
     "output_type": "stream",
     "text": [
      "INFO:tensorflow:Assets written to: model_b\\assets\n"
     ]
    },
    {
     "name": "stdout",
     "output_type": "stream",
     "text": [
      "19/19 [==============================] - 1s 72ms/step - loss: 0.2035 - accuracy: 0.9475 - val_loss: 0.2937 - val_accuracy: 0.9239\n",
      "Epoch 50/100\n",
      " 1/19 [>.............................] - ETA: 0s - loss: 0.1772 - accuracy: 0.9688"
     ]
    },
    {
     "name": "stderr",
     "output_type": "stream",
     "text": [
      "WARNING:absl:Found untraced functions such as _update_step_xla while saving (showing 1 of 1). These functions will not be directly callable after loading.\n"
     ]
    },
    {
     "name": "stdout",
     "output_type": "stream",
     "text": [
      "INFO:tensorflow:Assets written to: model_b\\assets\n"
     ]
    },
    {
     "name": "stderr",
     "output_type": "stream",
     "text": [
      "INFO:tensorflow:Assets written to: model_b\\assets\n"
     ]
    },
    {
     "name": "stdout",
     "output_type": "stream",
     "text": [
      "19/19 [==============================] - 1s 77ms/step - loss: 0.2005 - accuracy: 0.9458 - val_loss: 0.2921 - val_accuracy: 0.9188\n",
      "Epoch 51/100\n",
      "11/19 [================>.............] - ETA: 0s - loss: 0.2025 - accuracy: 0.9432"
     ]
    },
    {
     "name": "stderr",
     "output_type": "stream",
     "text": [
      "WARNING:absl:Found untraced functions such as _update_step_xla while saving (showing 1 of 1). These functions will not be directly callable after loading.\n"
     ]
    },
    {
     "name": "stdout",
     "output_type": "stream",
     "text": [
      "INFO:tensorflow:Assets written to: model_b\\assets\n"
     ]
    },
    {
     "name": "stderr",
     "output_type": "stream",
     "text": [
      "INFO:tensorflow:Assets written to: model_b\\assets\n"
     ]
    },
    {
     "name": "stdout",
     "output_type": "stream",
     "text": [
      "19/19 [==============================] - 1s 79ms/step - loss: 0.1977 - accuracy: 0.9441 - val_loss: 0.2905 - val_accuracy: 0.9239\n",
      "Epoch 52/100\n",
      " 1/19 [>.............................] - ETA: 0s - loss: 0.2114 - accuracy: 0.9688"
     ]
    },
    {
     "name": "stderr",
     "output_type": "stream",
     "text": [
      "WARNING:absl:Found untraced functions such as _update_step_xla while saving (showing 1 of 1). These functions will not be directly callable after loading.\n"
     ]
    },
    {
     "name": "stdout",
     "output_type": "stream",
     "text": [
      "INFO:tensorflow:Assets written to: model_b\\assets\n"
     ]
    },
    {
     "name": "stderr",
     "output_type": "stream",
     "text": [
      "INFO:tensorflow:Assets written to: model_b\\assets\n"
     ]
    },
    {
     "name": "stdout",
     "output_type": "stream",
     "text": [
      "19/19 [==============================] - 1s 78ms/step - loss: 0.2006 - accuracy: 0.9458 - val_loss: 0.2877 - val_accuracy: 0.9188\n",
      "Epoch 53/100\n",
      " 1/19 [>.............................] - ETA: 0s - loss: 0.1973 - accuracy: 0.9375"
     ]
    },
    {
     "name": "stderr",
     "output_type": "stream",
     "text": [
      "WARNING:absl:Found untraced functions such as _update_step_xla while saving (showing 1 of 1). These functions will not be directly callable after loading.\n"
     ]
    },
    {
     "name": "stdout",
     "output_type": "stream",
     "text": [
      "INFO:tensorflow:Assets written to: model_b\\assets\n"
     ]
    },
    {
     "name": "stderr",
     "output_type": "stream",
     "text": [
      "INFO:tensorflow:Assets written to: model_b\\assets\n"
     ]
    },
    {
     "name": "stdout",
     "output_type": "stream",
     "text": [
      "19/19 [==============================] - 1s 77ms/step - loss: 0.1968 - accuracy: 0.9441 - val_loss: 0.2845 - val_accuracy: 0.9188\n",
      "Epoch 54/100\n",
      " 1/19 [>.............................] - ETA: 0s - loss: 0.2066 - accuracy: 0.9375"
     ]
    },
    {
     "name": "stderr",
     "output_type": "stream",
     "text": [
      "WARNING:absl:Found untraced functions such as _update_step_xla while saving (showing 1 of 1). These functions will not be directly callable after loading.\n"
     ]
    },
    {
     "name": "stdout",
     "output_type": "stream",
     "text": [
      "INFO:tensorflow:Assets written to: model_b\\assets\n"
     ]
    },
    {
     "name": "stderr",
     "output_type": "stream",
     "text": [
      "INFO:tensorflow:Assets written to: model_b\\assets\n"
     ]
    },
    {
     "name": "stdout",
     "output_type": "stream",
     "text": [
      "19/19 [==============================] - 2s 85ms/step - loss: 0.1880 - accuracy: 0.9525 - val_loss: 0.2798 - val_accuracy: 0.9188\n",
      "Epoch 55/100\n",
      "19/19 [==============================] - ETA: 0s - loss: 0.1900 - accuracy: 0.9424"
     ]
    },
    {
     "name": "stderr",
     "output_type": "stream",
     "text": [
      "WARNING:absl:Found untraced functions such as _update_step_xla while saving (showing 1 of 1). These functions will not be directly callable after loading.\n"
     ]
    },
    {
     "name": "stdout",
     "output_type": "stream",
     "text": [
      "INFO:tensorflow:Assets written to: model_b\\assets\n"
     ]
    },
    {
     "name": "stderr",
     "output_type": "stream",
     "text": [
      "INFO:tensorflow:Assets written to: model_b\\assets\n"
     ]
    },
    {
     "name": "stdout",
     "output_type": "stream",
     "text": [
      "19/19 [==============================] - 1s 78ms/step - loss: 0.1900 - accuracy: 0.9424 - val_loss: 0.2794 - val_accuracy: 0.9188\n",
      "Epoch 56/100\n",
      "18/19 [===========================>..] - ETA: 0s - loss: 0.1954 - accuracy: 0.9427"
     ]
    },
    {
     "name": "stderr",
     "output_type": "stream",
     "text": [
      "WARNING:absl:Found untraced functions such as _update_step_xla while saving (showing 1 of 1). These functions will not be directly callable after loading.\n"
     ]
    },
    {
     "name": "stdout",
     "output_type": "stream",
     "text": [
      "INFO:tensorflow:Assets written to: model_b\\assets\n"
     ]
    },
    {
     "name": "stderr",
     "output_type": "stream",
     "text": [
      "INFO:tensorflow:Assets written to: model_b\\assets\n"
     ]
    },
    {
     "name": "stdout",
     "output_type": "stream",
     "text": [
      "19/19 [==============================] - 1s 72ms/step - loss: 0.1976 - accuracy: 0.9424 - val_loss: 0.2722 - val_accuracy: 0.9188\n",
      "Epoch 57/100\n",
      "19/19 [==============================] - 0s 6ms/step - loss: 0.1839 - accuracy: 0.9424 - val_loss: 0.2757 - val_accuracy: 0.9137\n",
      "Epoch 58/100\n",
      "19/19 [==============================] - 0s 5ms/step - loss: 0.1776 - accuracy: 0.9508 - val_loss: 0.2742 - val_accuracy: 0.9137\n",
      "Epoch 59/100\n",
      "19/19 [==============================] - 0s 5ms/step - loss: 0.1744 - accuracy: 0.9475 - val_loss: 0.2738 - val_accuracy: 0.9239\n",
      "Epoch 60/100\n",
      " 1/19 [>.............................] - ETA: 0s - loss: 0.1834 - accuracy: 0.9375"
     ]
    },
    {
     "name": "stderr",
     "output_type": "stream",
     "text": [
      "WARNING:absl:Found untraced functions such as _update_step_xla while saving (showing 1 of 1). These functions will not be directly callable after loading.\n"
     ]
    },
    {
     "name": "stdout",
     "output_type": "stream",
     "text": [
      "INFO:tensorflow:Assets written to: model_b\\assets\n"
     ]
    },
    {
     "name": "stderr",
     "output_type": "stream",
     "text": [
      "INFO:tensorflow:Assets written to: model_b\\assets\n"
     ]
    },
    {
     "name": "stdout",
     "output_type": "stream",
     "text": [
      "19/19 [==============================] - 1s 75ms/step - loss: 0.1691 - accuracy: 0.9576 - val_loss: 0.2694 - val_accuracy: 0.9137\n",
      "Epoch 61/100\n",
      " 1/19 [>.............................] - ETA: 0s - loss: 0.2024 - accuracy: 0.9375"
     ]
    },
    {
     "name": "stderr",
     "output_type": "stream",
     "text": [
      "WARNING:absl:Found untraced functions such as _update_step_xla while saving (showing 1 of 1). These functions will not be directly callable after loading.\n"
     ]
    },
    {
     "name": "stdout",
     "output_type": "stream",
     "text": [
      "INFO:tensorflow:Assets written to: model_b\\assets\n"
     ]
    },
    {
     "name": "stderr",
     "output_type": "stream",
     "text": [
      "INFO:tensorflow:Assets written to: model_b\\assets\n"
     ]
    },
    {
     "name": "stdout",
     "output_type": "stream",
     "text": [
      "19/19 [==============================] - 1s 66ms/step - loss: 0.1691 - accuracy: 0.9508 - val_loss: 0.2684 - val_accuracy: 0.9137\n",
      "Epoch 62/100\n",
      " 1/19 [>.............................] - ETA: 0s - loss: 0.1259 - accuracy: 0.9688"
     ]
    },
    {
     "name": "stderr",
     "output_type": "stream",
     "text": [
      "WARNING:absl:Found untraced functions such as _update_step_xla while saving (showing 1 of 1). These functions will not be directly callable after loading.\n"
     ]
    },
    {
     "name": "stdout",
     "output_type": "stream",
     "text": [
      "INFO:tensorflow:Assets written to: model_b\\assets\n"
     ]
    },
    {
     "name": "stderr",
     "output_type": "stream",
     "text": [
      "INFO:tensorflow:Assets written to: model_b\\assets\n"
     ]
    },
    {
     "name": "stdout",
     "output_type": "stream",
     "text": [
      "19/19 [==============================] - 1s 71ms/step - loss: 0.1724 - accuracy: 0.9441 - val_loss: 0.2645 - val_accuracy: 0.9137\n",
      "Epoch 63/100\n",
      " 1/19 [>.............................] - ETA: 0s - loss: 0.1435 - accuracy: 1.0000"
     ]
    },
    {
     "name": "stderr",
     "output_type": "stream",
     "text": [
      "WARNING:absl:Found untraced functions such as _update_step_xla while saving (showing 1 of 1). These functions will not be directly callable after loading.\n"
     ]
    },
    {
     "name": "stdout",
     "output_type": "stream",
     "text": [
      "INFO:tensorflow:Assets written to: model_b\\assets\n"
     ]
    },
    {
     "name": "stderr",
     "output_type": "stream",
     "text": [
      "INFO:tensorflow:Assets written to: model_b\\assets\n"
     ]
    },
    {
     "name": "stdout",
     "output_type": "stream",
     "text": [
      "19/19 [==============================] - 1s 79ms/step - loss: 0.1708 - accuracy: 0.9441 - val_loss: 0.2618 - val_accuracy: 0.9137\n",
      "Epoch 64/100\n",
      " 1/19 [>.............................] - ETA: 0s - loss: 0.1917 - accuracy: 0.9375"
     ]
    },
    {
     "name": "stderr",
     "output_type": "stream",
     "text": [
      "WARNING:absl:Found untraced functions such as _update_step_xla while saving (showing 1 of 1). These functions will not be directly callable after loading.\n"
     ]
    },
    {
     "name": "stdout",
     "output_type": "stream",
     "text": [
      "INFO:tensorflow:Assets written to: model_b\\assets\n"
     ]
    },
    {
     "name": "stderr",
     "output_type": "stream",
     "text": [
      "INFO:tensorflow:Assets written to: model_b\\assets\n"
     ]
    },
    {
     "name": "stdout",
     "output_type": "stream",
     "text": [
      "19/19 [==============================] - 1s 70ms/step - loss: 0.1808 - accuracy: 0.9492 - val_loss: 0.2564 - val_accuracy: 0.9188\n",
      "Epoch 65/100\n",
      "19/19 [==============================] - 0s 6ms/step - loss: 0.1617 - accuracy: 0.9593 - val_loss: 0.2571 - val_accuracy: 0.9188\n",
      "Epoch 66/100\n",
      "19/19 [==============================] - 0s 5ms/step - loss: 0.1557 - accuracy: 0.9610 - val_loss: 0.2588 - val_accuracy: 0.9188\n",
      "Epoch 67/100\n",
      " 1/19 [>.............................] - ETA: 0s - loss: 0.1322 - accuracy: 1.0000"
     ]
    },
    {
     "name": "stderr",
     "output_type": "stream",
     "text": [
      "WARNING:absl:Found untraced functions such as _update_step_xla while saving (showing 1 of 1). These functions will not be directly callable after loading.\n"
     ]
    },
    {
     "name": "stdout",
     "output_type": "stream",
     "text": [
      "INFO:tensorflow:Assets written to: model_b\\assets\n"
     ]
    },
    {
     "name": "stderr",
     "output_type": "stream",
     "text": [
      "INFO:tensorflow:Assets written to: model_b\\assets\n"
     ]
    },
    {
     "name": "stdout",
     "output_type": "stream",
     "text": [
      "19/19 [==============================] - 1s 68ms/step - loss: 0.1632 - accuracy: 0.9542 - val_loss: 0.2556 - val_accuracy: 0.9239\n",
      "Epoch 68/100\n",
      " 1/19 [>.............................] - ETA: 0s - loss: 0.1329 - accuracy: 0.9688"
     ]
    },
    {
     "name": "stderr",
     "output_type": "stream",
     "text": [
      "WARNING:absl:Found untraced functions such as _update_step_xla while saving (showing 1 of 1). These functions will not be directly callable after loading.\n"
     ]
    },
    {
     "name": "stdout",
     "output_type": "stream",
     "text": [
      "INFO:tensorflow:Assets written to: model_b\\assets\n"
     ]
    },
    {
     "name": "stderr",
     "output_type": "stream",
     "text": [
      "INFO:tensorflow:Assets written to: model_b\\assets\n"
     ]
    },
    {
     "name": "stdout",
     "output_type": "stream",
     "text": [
      "19/19 [==============================] - 2s 93ms/step - loss: 0.1550 - accuracy: 0.9525 - val_loss: 0.2539 - val_accuracy: 0.9239\n",
      "Epoch 69/100\n",
      "19/19 [==============================] - 0s 5ms/step - loss: 0.1612 - accuracy: 0.9525 - val_loss: 0.2545 - val_accuracy: 0.9289\n",
      "Epoch 70/100\n",
      " 1/19 [>.............................] - ETA: 0s - loss: 0.1245 - accuracy: 0.9688"
     ]
    },
    {
     "name": "stderr",
     "output_type": "stream",
     "text": [
      "WARNING:absl:Found untraced functions such as _update_step_xla while saving (showing 1 of 1). These functions will not be directly callable after loading.\n"
     ]
    },
    {
     "name": "stdout",
     "output_type": "stream",
     "text": [
      "INFO:tensorflow:Assets written to: model_b\\assets\n"
     ]
    },
    {
     "name": "stderr",
     "output_type": "stream",
     "text": [
      "INFO:tensorflow:Assets written to: model_b\\assets\n"
     ]
    },
    {
     "name": "stdout",
     "output_type": "stream",
     "text": [
      "19/19 [==============================] - 1s 68ms/step - loss: 0.1497 - accuracy: 0.9576 - val_loss: 0.2517 - val_accuracy: 0.9239\n",
      "Epoch 71/100\n",
      "19/19 [==============================] - 0s 9ms/step - loss: 0.1555 - accuracy: 0.9475 - val_loss: 0.2528 - val_accuracy: 0.9289\n",
      "Epoch 72/100\n",
      "19/19 [==============================] - 0s 5ms/step - loss: 0.1412 - accuracy: 0.9627 - val_loss: 0.2521 - val_accuracy: 0.9239\n",
      "Epoch 73/100\n",
      " 1/19 [>.............................] - ETA: 0s - loss: 0.1527 - accuracy: 0.9062"
     ]
    },
    {
     "name": "stderr",
     "output_type": "stream",
     "text": [
      "WARNING:absl:Found untraced functions such as _update_step_xla while saving (showing 1 of 1). These functions will not be directly callable after loading.\n"
     ]
    },
    {
     "name": "stdout",
     "output_type": "stream",
     "text": [
      "INFO:tensorflow:Assets written to: model_b\\assets\n"
     ]
    },
    {
     "name": "stderr",
     "output_type": "stream",
     "text": [
      "INFO:tensorflow:Assets written to: model_b\\assets\n"
     ]
    },
    {
     "name": "stdout",
     "output_type": "stream",
     "text": [
      "19/19 [==============================] - 1s 74ms/step - loss: 0.1512 - accuracy: 0.9542 - val_loss: 0.2507 - val_accuracy: 0.9239\n",
      "Epoch 74/100\n",
      " 1/19 [>.............................] - ETA: 0s - loss: 0.1631 - accuracy: 0.9062"
     ]
    },
    {
     "name": "stderr",
     "output_type": "stream",
     "text": [
      "WARNING:absl:Found untraced functions such as _update_step_xla while saving (showing 1 of 1). These functions will not be directly callable after loading.\n"
     ]
    },
    {
     "name": "stdout",
     "output_type": "stream",
     "text": [
      "INFO:tensorflow:Assets written to: model_b\\assets\n"
     ]
    },
    {
     "name": "stderr",
     "output_type": "stream",
     "text": [
      "INFO:tensorflow:Assets written to: model_b\\assets\n"
     ]
    },
    {
     "name": "stdout",
     "output_type": "stream",
     "text": [
      "19/19 [==============================] - 1s 75ms/step - loss: 0.1488 - accuracy: 0.9525 - val_loss: 0.2504 - val_accuracy: 0.9289\n",
      "Epoch 75/100\n",
      "19/19 [==============================] - 0s 7ms/step - loss: 0.1569 - accuracy: 0.9458 - val_loss: 0.2504 - val_accuracy: 0.9289\n",
      "Epoch 76/100\n",
      " 1/19 [>.............................] - ETA: 0s - loss: 0.1974 - accuracy: 0.9062"
     ]
    },
    {
     "name": "stderr",
     "output_type": "stream",
     "text": [
      "WARNING:absl:Found untraced functions such as _update_step_xla while saving (showing 1 of 1). These functions will not be directly callable after loading.\n"
     ]
    },
    {
     "name": "stdout",
     "output_type": "stream",
     "text": [
      "INFO:tensorflow:Assets written to: model_b\\assets\n"
     ]
    },
    {
     "name": "stderr",
     "output_type": "stream",
     "text": [
      "INFO:tensorflow:Assets written to: model_b\\assets\n"
     ]
    },
    {
     "name": "stdout",
     "output_type": "stream",
     "text": [
      "19/19 [==============================] - 1s 69ms/step - loss: 0.1512 - accuracy: 0.9542 - val_loss: 0.2488 - val_accuracy: 0.9289\n",
      "Epoch 77/100\n",
      "19/19 [==============================] - 0s 9ms/step - loss: 0.1400 - accuracy: 0.9576 - val_loss: 0.2500 - val_accuracy: 0.9289\n",
      "Epoch 78/100\n",
      "19/19 [==============================] - 0s 5ms/step - loss: 0.1495 - accuracy: 0.9492 - val_loss: 0.2492 - val_accuracy: 0.9289\n",
      "Epoch 79/100\n",
      "13/19 [===================>..........] - ETA: 0s - loss: 0.1224 - accuracy: 0.9639"
     ]
    },
    {
     "name": "stderr",
     "output_type": "stream",
     "text": [
      "WARNING:absl:Found untraced functions such as _update_step_xla while saving (showing 1 of 1). These functions will not be directly callable after loading.\n"
     ]
    },
    {
     "name": "stdout",
     "output_type": "stream",
     "text": [
      "INFO:tensorflow:Assets written to: model_b\\assets\n"
     ]
    },
    {
     "name": "stderr",
     "output_type": "stream",
     "text": [
      "INFO:tensorflow:Assets written to: model_b\\assets\n"
     ]
    },
    {
     "name": "stdout",
     "output_type": "stream",
     "text": [
      "19/19 [==============================] - 1s 76ms/step - loss: 0.1312 - accuracy: 0.9610 - val_loss: 0.2482 - val_accuracy: 0.9289\n",
      "Epoch 80/100\n",
      " 1/19 [>.............................] - ETA: 0s - loss: 0.0839 - accuracy: 1.0000"
     ]
    },
    {
     "name": "stderr",
     "output_type": "stream",
     "text": [
      "WARNING:absl:Found untraced functions such as _update_step_xla while saving (showing 1 of 1). These functions will not be directly callable after loading.\n"
     ]
    },
    {
     "name": "stdout",
     "output_type": "stream",
     "text": [
      "INFO:tensorflow:Assets written to: model_b\\assets\n"
     ]
    },
    {
     "name": "stderr",
     "output_type": "stream",
     "text": [
      "INFO:tensorflow:Assets written to: model_b\\assets\n"
     ]
    },
    {
     "name": "stdout",
     "output_type": "stream",
     "text": [
      "19/19 [==============================] - 1s 74ms/step - loss: 0.1579 - accuracy: 0.9508 - val_loss: 0.2475 - val_accuracy: 0.9289\n",
      "Epoch 81/100\n",
      "19/19 [==============================] - 0s 7ms/step - loss: 0.1400 - accuracy: 0.9610 - val_loss: 0.2481 - val_accuracy: 0.9289\n",
      "Epoch 82/100\n",
      "19/19 [==============================] - 0s 5ms/step - loss: 0.1240 - accuracy: 0.9559 - val_loss: 0.2482 - val_accuracy: 0.9289\n",
      "Epoch 83/100\n",
      " 1/19 [>.............................] - ETA: 0s - loss: 0.1139 - accuracy: 0.9375"
     ]
    },
    {
     "name": "stderr",
     "output_type": "stream",
     "text": [
      "WARNING:absl:Found untraced functions such as _update_step_xla while saving (showing 1 of 1). These functions will not be directly callable after loading.\n"
     ]
    },
    {
     "name": "stdout",
     "output_type": "stream",
     "text": [
      "INFO:tensorflow:Assets written to: model_b\\assets\n"
     ]
    },
    {
     "name": "stderr",
     "output_type": "stream",
     "text": [
      "INFO:tensorflow:Assets written to: model_b\\assets\n"
     ]
    },
    {
     "name": "stdout",
     "output_type": "stream",
     "text": [
      "19/19 [==============================] - 1s 67ms/step - loss: 0.1258 - accuracy: 0.9627 - val_loss: 0.2465 - val_accuracy: 0.9289\n",
      "Epoch 84/100\n",
      "19/19 [==============================] - 0s 7ms/step - loss: 0.1395 - accuracy: 0.9576 - val_loss: 0.2475 - val_accuracy: 0.9289\n",
      "Epoch 85/100\n",
      "19/19 [==============================] - 0s 6ms/step - loss: 0.1314 - accuracy: 0.9559 - val_loss: 0.2486 - val_accuracy: 0.9289\n",
      "Epoch 86/100\n",
      "19/19 [==============================] - 0s 6ms/step - loss: 0.1427 - accuracy: 0.9525 - val_loss: 0.2501 - val_accuracy: 0.9289\n",
      "Epoch 87/100\n",
      "19/19 [==============================] - 0s 6ms/step - loss: 0.1227 - accuracy: 0.9576 - val_loss: 0.2509 - val_accuracy: 0.9289\n",
      "Epoch 88/100\n",
      "19/19 [==============================] - 0s 5ms/step - loss: 0.1276 - accuracy: 0.9576 - val_loss: 0.2518 - val_accuracy: 0.9289\n",
      "Epoch 89/100\n",
      "19/19 [==============================] - 0s 5ms/step - loss: 0.1378 - accuracy: 0.9525 - val_loss: 0.2520 - val_accuracy: 0.9289\n",
      "Epoch 90/100\n",
      "19/19 [==============================] - 0s 6ms/step - loss: 0.1254 - accuracy: 0.9525 - val_loss: 0.2511 - val_accuracy: 0.9289\n",
      "Epoch 91/100\n",
      "19/19 [==============================] - 0s 5ms/step - loss: 0.1191 - accuracy: 0.9610 - val_loss: 0.2547 - val_accuracy: 0.9289\n",
      "Epoch 92/100\n",
      "19/19 [==============================] - 0s 5ms/step - loss: 0.1269 - accuracy: 0.9542 - val_loss: 0.2525 - val_accuracy: 0.9289\n",
      "Epoch 93/100\n",
      "19/19 [==============================] - 0s 5ms/step - loss: 0.1216 - accuracy: 0.9610 - val_loss: 0.2523 - val_accuracy: 0.9289\n",
      "Epoch 94/100\n",
      "19/19 [==============================] - 0s 5ms/step - loss: 0.1163 - accuracy: 0.9644 - val_loss: 0.2531 - val_accuracy: 0.9289\n",
      "Epoch 95/100\n",
      "19/19 [==============================] - 0s 6ms/step - loss: 0.1174 - accuracy: 0.9593 - val_loss: 0.2530 - val_accuracy: 0.9289\n",
      "Epoch 96/100\n",
      "19/19 [==============================] - 0s 5ms/step - loss: 0.1229 - accuracy: 0.9593 - val_loss: 0.2538 - val_accuracy: 0.9289\n",
      "Epoch 97/100\n",
      "19/19 [==============================] - 0s 6ms/step - loss: 0.1301 - accuracy: 0.9542 - val_loss: 0.2547 - val_accuracy: 0.9289\n",
      "Epoch 98/100\n",
      "19/19 [==============================] - 0s 5ms/step - loss: 0.1214 - accuracy: 0.9610 - val_loss: 0.2549 - val_accuracy: 0.9289\n",
      "Epoch 99/100\n",
      "19/19 [==============================] - 0s 5ms/step - loss: 0.1267 - accuracy: 0.9576 - val_loss: 0.2558 - val_accuracy: 0.9289\n",
      "Epoch 100/100\n",
      "19/19 [==============================] - 0s 6ms/step - loss: 0.1278 - accuracy: 0.9576 - val_loss: 0.2547 - val_accuracy: 0.9340\n"
     ]
    },
    {
     "data": {
      "text/plain": [
       "<keras.callbacks.History at 0x1d3bb75bf40>"
      ]
     },
     "execution_count": 34,
     "metadata": {},
     "output_type": "execute_result"
    }
   ],
   "source": [
    "model_b = Sequential()\n",
    "model_b.add(InputLayer((x_train.shape[1],)))\n",
    "model_b.add(Dense(2, 'relu'))\n",
    "model_b.add(BatchNormalization())\n",
    "model_b.add(Dense(1, 'sigmoid'))\n",
    "\n",
    "checkpoint = ModelCheckpoint('model_b', save_best_only=True)\n",
    "model_b.compile(optimizer='adam', loss='binary_crossentropy', metrics=['accuracy'])\n",
    "model_b.fit(x_train_c, y_train_c,validation_data=(x_val_c, y_val_c), epochs=100, callbacks=[checkpoint,early_stopping_b])\n"
   ]
  },
  {
   "cell_type": "code",
   "execution_count": 51,
   "metadata": {},
   "outputs": [
    {
     "name": "stdout",
     "output_type": "stream",
     "text": [
      "7/7 [==============================] - 0s 2ms/step\n",
      "              precision    recall  f1-score   support\n",
      "\n",
      "   Not Fraud       0.90      0.96      0.93        95\n",
      "       Fraud       0.96      0.90      0.93       102\n",
      "\n",
      "    accuracy                           0.93       197\n",
      "   macro avg       0.93      0.93      0.93       197\n",
      "weighted avg       0.93      0.93      0.93       197\n",
      "\n"
     ]
    }
   ],
   "source": [
    "print(classification_report(y_val_c, neural_net_predictions(model_b, x_val_c), target_names=['Not Fraud', 'Fraud']))"
   ]
  },
  {
   "cell_type": "code",
   "execution_count": 53,
   "metadata": {},
   "outputs": [
    {
     "name": "stdout",
     "output_type": "stream",
     "text": [
      "1158/1158 [==============================] - 2s 1ms/step\n",
      "[[0. 0.]\n",
      " [0. 0.]\n",
      " [0. 0.]\n",
      " ...\n",
      " [0. 0.]\n",
      " [0. 0.]\n",
      " [0. 0.]]\n"
     ]
    }
   ],
   "source": [
    "y_pred = model_b.predict(x_test)\n",
    "y_pred = (y_pred > 0.5)\n",
    "print(np.concatenate((y_pred.reshape(len(y_pred),1), y_test.reshape(len(y_test),1)),1))"
   ]
  },
  {
   "cell_type": "code",
   "execution_count": 54,
   "metadata": {},
   "outputs": [
    {
     "name": "stdout",
     "output_type": "stream",
     "text": [
      "[[48 51]\n",
      " [53 45]]\n"
     ]
    },
    {
     "ename": "ValueError",
     "evalue": "Found input variables with inconsistent numbers of samples: [197, 37025]",
     "output_type": "error",
     "traceback": [
      "\u001b[1;31m---------------------------------------------------------------------------\u001b[0m",
      "\u001b[1;31mValueError\u001b[0m                                Traceback (most recent call last)",
      "Cell \u001b[1;32mIn[54], line 3\u001b[0m\n\u001b[0;32m      1\u001b[0m cm2 \u001b[39m=\u001b[39m confusion_matrix(y_test_c, y_pred_c)\n\u001b[0;32m      2\u001b[0m \u001b[39mprint\u001b[39m(cm2)\n\u001b[1;32m----> 3\u001b[0m \u001b[39mround\u001b[39m(accuracy_score(y_test_c, y_pred)\u001b[39m*\u001b[39m\u001b[39m100\u001b[39m, \u001b[39m2\u001b[39m)\n",
      "File \u001b[1;32mc:\\Users\\argli\\AppData\\Local\\Programs\\Python\\Python310\\lib\\site-packages\\sklearn\\utils\\_param_validation.py:192\u001b[0m, in \u001b[0;36mvalidate_params.<locals>.decorator.<locals>.wrapper\u001b[1;34m(*args, **kwargs)\u001b[0m\n\u001b[0;32m    187\u001b[0m validate_parameter_constraints(\n\u001b[0;32m    188\u001b[0m     parameter_constraints, params, caller_name\u001b[39m=\u001b[39mfunc\u001b[39m.\u001b[39m\u001b[39m__qualname__\u001b[39m\n\u001b[0;32m    189\u001b[0m )\n\u001b[0;32m    191\u001b[0m \u001b[39mtry\u001b[39;00m:\n\u001b[1;32m--> 192\u001b[0m     \u001b[39mreturn\u001b[39;00m func(\u001b[39m*\u001b[39margs, \u001b[39m*\u001b[39m\u001b[39m*\u001b[39mkwargs)\n\u001b[0;32m    193\u001b[0m \u001b[39mexcept\u001b[39;00m InvalidParameterError \u001b[39mas\u001b[39;00m e:\n\u001b[0;32m    194\u001b[0m     \u001b[39m# When the function is just a wrapper around an estimator, we allow\u001b[39;00m\n\u001b[0;32m    195\u001b[0m     \u001b[39m# the function to delegate validation to the estimator, but we replace\u001b[39;00m\n\u001b[0;32m    196\u001b[0m     \u001b[39m# the name of the estimator by the name of the function in the error\u001b[39;00m\n\u001b[0;32m    197\u001b[0m     \u001b[39m# message to avoid confusion.\u001b[39;00m\n\u001b[0;32m    198\u001b[0m     msg \u001b[39m=\u001b[39m re\u001b[39m.\u001b[39msub(\n\u001b[0;32m    199\u001b[0m         \u001b[39mr\u001b[39m\u001b[39m\"\u001b[39m\u001b[39mparameter of \u001b[39m\u001b[39m\\\u001b[39m\u001b[39mw+ must be\u001b[39m\u001b[39m\"\u001b[39m,\n\u001b[0;32m    200\u001b[0m         \u001b[39mf\u001b[39m\u001b[39m\"\u001b[39m\u001b[39mparameter of \u001b[39m\u001b[39m{\u001b[39;00mfunc\u001b[39m.\u001b[39m\u001b[39m__qualname__\u001b[39m\u001b[39m}\u001b[39;00m\u001b[39m must be\u001b[39m\u001b[39m\"\u001b[39m,\n\u001b[0;32m    201\u001b[0m         \u001b[39mstr\u001b[39m(e),\n\u001b[0;32m    202\u001b[0m     )\n",
      "File \u001b[1;32mc:\\Users\\argli\\AppData\\Local\\Programs\\Python\\Python310\\lib\\site-packages\\sklearn\\metrics\\_classification.py:221\u001b[0m, in \u001b[0;36maccuracy_score\u001b[1;34m(y_true, y_pred, normalize, sample_weight)\u001b[0m\n\u001b[0;32m    155\u001b[0m \u001b[39m\u001b[39m\u001b[39m\"\"\"Accuracy classification score.\u001b[39;00m\n\u001b[0;32m    156\u001b[0m \n\u001b[0;32m    157\u001b[0m \u001b[39mIn multilabel classification, this function computes subset accuracy:\u001b[39;00m\n\u001b[1;32m   (...)\u001b[0m\n\u001b[0;32m    217\u001b[0m \u001b[39m0.5\u001b[39;00m\n\u001b[0;32m    218\u001b[0m \u001b[39m\"\"\"\u001b[39;00m\n\u001b[0;32m    220\u001b[0m \u001b[39m# Compute accuracy for each possible representation\u001b[39;00m\n\u001b[1;32m--> 221\u001b[0m y_type, y_true, y_pred \u001b[39m=\u001b[39m _check_targets(y_true, y_pred)\n\u001b[0;32m    222\u001b[0m check_consistent_length(y_true, y_pred, sample_weight)\n\u001b[0;32m    223\u001b[0m \u001b[39mif\u001b[39;00m y_type\u001b[39m.\u001b[39mstartswith(\u001b[39m\"\u001b[39m\u001b[39mmultilabel\u001b[39m\u001b[39m\"\u001b[39m):\n",
      "File \u001b[1;32mc:\\Users\\argli\\AppData\\Local\\Programs\\Python\\Python310\\lib\\site-packages\\sklearn\\metrics\\_classification.py:86\u001b[0m, in \u001b[0;36m_check_targets\u001b[1;34m(y_true, y_pred)\u001b[0m\n\u001b[0;32m     59\u001b[0m \u001b[39mdef\u001b[39;00m \u001b[39m_check_targets\u001b[39m(y_true, y_pred):\n\u001b[0;32m     60\u001b[0m \u001b[39m    \u001b[39m\u001b[39m\"\"\"Check that y_true and y_pred belong to the same classification task.\u001b[39;00m\n\u001b[0;32m     61\u001b[0m \n\u001b[0;32m     62\u001b[0m \u001b[39m    This converts multiclass or binary types to a common shape, and raises a\u001b[39;00m\n\u001b[1;32m   (...)\u001b[0m\n\u001b[0;32m     84\u001b[0m \u001b[39m    y_pred : array or indicator matrix\u001b[39;00m\n\u001b[0;32m     85\u001b[0m \u001b[39m    \"\"\"\u001b[39;00m\n\u001b[1;32m---> 86\u001b[0m     check_consistent_length(y_true, y_pred)\n\u001b[0;32m     87\u001b[0m     type_true \u001b[39m=\u001b[39m type_of_target(y_true, input_name\u001b[39m=\u001b[39m\u001b[39m\"\u001b[39m\u001b[39my_true\u001b[39m\u001b[39m\"\u001b[39m)\n\u001b[0;32m     88\u001b[0m     type_pred \u001b[39m=\u001b[39m type_of_target(y_pred, input_name\u001b[39m=\u001b[39m\u001b[39m\"\u001b[39m\u001b[39my_pred\u001b[39m\u001b[39m\"\u001b[39m)\n",
      "File \u001b[1;32mc:\\Users\\argli\\AppData\\Local\\Programs\\Python\\Python310\\lib\\site-packages\\sklearn\\utils\\validation.py:397\u001b[0m, in \u001b[0;36mcheck_consistent_length\u001b[1;34m(*arrays)\u001b[0m\n\u001b[0;32m    395\u001b[0m uniques \u001b[39m=\u001b[39m np\u001b[39m.\u001b[39munique(lengths)\n\u001b[0;32m    396\u001b[0m \u001b[39mif\u001b[39;00m \u001b[39mlen\u001b[39m(uniques) \u001b[39m>\u001b[39m \u001b[39m1\u001b[39m:\n\u001b[1;32m--> 397\u001b[0m     \u001b[39mraise\u001b[39;00m \u001b[39mValueError\u001b[39;00m(\n\u001b[0;32m    398\u001b[0m         \u001b[39m\"\u001b[39m\u001b[39mFound input variables with inconsistent numbers of samples: \u001b[39m\u001b[39m%r\u001b[39;00m\u001b[39m\"\u001b[39m\n\u001b[0;32m    399\u001b[0m         \u001b[39m%\u001b[39m [\u001b[39mint\u001b[39m(l) \u001b[39mfor\u001b[39;00m l \u001b[39min\u001b[39;00m lengths]\n\u001b[0;32m    400\u001b[0m     )\n",
      "\u001b[1;31mValueError\u001b[0m: Found input variables with inconsistent numbers of samples: [197, 37025]"
     ]
    }
   ],
   "source": [
    "cm2 = confusion_matrix(y_test_c, y_pred_c)\n",
    "print(cm2)\n",
    "round(accuracy_score(y_test_c, y_pred)*100, 2)"
   ]
  },
  {
   "cell_type": "code",
   "execution_count": 55,
   "metadata": {},
   "outputs": [
    {
     "data": {
      "image/png": "[encoded data removed]",
      "text/plain": [
       "<Figure size 1200x1200 with 1 Axes>"
      ]
     },
     "metadata": {},
     "output_type": "display_data"
    },
    {
     "data": {
      "text/plain": [
       "<Figure size 640x480 with 0 Axes>"
      ]
     },
     "metadata": {},
     "output_type": "display_data"
    }
   ],
   "source": [
    "## Plotting the confusion matrix of the ANN trained with balanced data\n",
    "plt.subplots(figsize=(12, 12))\n",
    "sns.heatmap(cm2, annot=True, xticklabels=[\"No Fraud\",'Fraud'], yticklabels=['No Fraud','Fraud'],\n",
    "                cbar=False,cmap='Blues', fmt='g')\n",
    "plt.figure().savefig( 'confusion_matrix_heatmap_imbalanced.png', dpi=200)\n",
    "plt.show()"
   ]
  },
  {
   "cell_type": "code",
   "execution_count": 31,
   "metadata": {},
   "outputs": [
    {
     "name": "stdout",
     "output_type": "stream",
     "text": [
      "              precision    recall  f1-score   support\n",
      "\n",
      "   Not Fraud       0.81      1.00      0.89        95\n",
      "       Fraud       1.00      0.77      0.87       102\n",
      "\n",
      "    accuracy                           0.88       197\n",
      "   macro avg       0.90      0.89      0.88       197\n",
      "weighted avg       0.91      0.88      0.88       197\n",
      "\n"
     ]
    }
   ],
   "source": [
    "## Random Forest approach with balanced data\n",
    "rf_b = RandomForestClassifier(max_depth=2, n_jobs=-1)\n",
    "rf_b.fit(x_train_c, y_train_c)\n",
    "print(classification_report(y_val_c, rf.predict(x_val_c), target_names=['Not Fraud', 'Fraud']))"
   ]
  },
  {
   "cell_type": "code",
   "execution_count": 32,
   "metadata": {},
   "outputs": [
    {
     "name": "stdout",
     "output_type": "stream",
     "text": [
      "              precision    recall  f1-score   support\n",
      "\n",
      "   Not Fraud       0.74      1.00      0.85        95\n",
      "       Fraud       1.00      0.67      0.80       102\n",
      "\n",
      "    accuracy                           0.83       197\n",
      "   macro avg       0.87      0.83      0.82       197\n",
      "weighted avg       0.87      0.83      0.82       197\n",
      "\n"
     ]
    }
   ],
   "source": [
    "## Gradient Boost approach with balanced data\n",
    "gbc_b = GradientBoostingClassifier(n_estimators=50, learning_rate=1.0, max_depth=2, random_state=0)\n",
    "gbc_b.fit(x_train_c, y_train_c)\n",
    "print(classification_report(y_val_c, gbc.predict(x_val_c), target_names=['Not Fraud', 'Fraud']))"
   ]
  },
  {
   "cell_type": "code",
   "execution_count": 56,
   "metadata": {},
   "outputs": [
    {
     "name": "stdout",
     "output_type": "stream",
     "text": [
      "                       Model  Precion  Recall  f-1score\n",
      "0  Artificial Neural Network       93      93        93\n",
      "1        Logistic Regression       94      94        94\n"
     ]
    }
   ],
   "source": [
    "# Create the data for the DataFrame\n",
    "dataset = {\n",
    "    'Model': ['Artificial Neural Network', 'Logistic Regression'],\n",
    "    'Precion': [93, 94],\n",
    "    'Recall': [93, 94],\n",
    "    'f-1score': [93, 94]\n",
    "}\n",
    "\n",
    "# Create the DataFrame\n",
    "dataset1 = pd.DataFrame(dataset)\n",
    "\n",
    "# Display the DataFrame\n",
    "print(dataset1)"
   ]
  },
  {
   "cell_type": "code",
   "execution_count": 83,
   "metadata": {},
   "outputs": [
    {
     "data": {
      "text/plain": [
       "<Figure size 2000x1500 with 0 Axes>"
      ]
     },
     "metadata": {},
     "output_type": "display_data"
    },
    {
     "data": {
      "image/png": "[encoded data removed]",
      "text/plain": [
       "<Figure size 640x480 with 1 Axes>"
      ]
     },
     "metadata": {},
     "output_type": "display_data"
    }
   ],
   "source": [
    "plt.figure(figsize=(20, 15))\n",
    "# Create the horizontal bar chart\n",
    "ax = dataset1.plot(kind='barh', x='Model', legend=True)\n",
    "for container in ax.containers:\n",
    "    ax.bar_label(container)\n",
    "\n",
    "# Set labels and title\n",
    "plt.xlabel('Performance')\n",
    "plt.ylabel('Model')\n",
    "plt.title('Supervised Learning Performance Outcome')\n",
    "\n",
    "# Show the plot\n",
    "plt.show()"
   ]
  }
 ],
 "metadata": {
  "kernelspec": {
   "display_name": "Python 3",
   "language": "python",
   "name": "python3"
  },
  "language_info": {
   "codemirror_mode": {
    "name": "ipython",
    "version": 3
   },
   "file_extension": ".py",
   "mimetype": "text/x-python",
   "name": "python",
   "nbconvert_exporter": "python",
   "pygments_lexer": "ipython3",
   "version": "3.10.9"
  },
  "orig_nbformat": 4
 },
 "nbformat": 4,
 "nbformat_minor": 2
}
